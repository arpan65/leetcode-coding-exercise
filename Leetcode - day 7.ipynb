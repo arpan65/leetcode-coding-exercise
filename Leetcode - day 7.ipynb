{
 "cells": [
  {
   "cell_type": "markdown",
   "id": "52fe6e11",
   "metadata": {},
   "source": [
    "# Leetcode - day 7"
   ]
  },
  {
   "cell_type": "markdown",
   "id": "ea18276a",
   "metadata": {},
   "source": [
    "### 3Sum Closest\n",
    "\n",
    "\n",
    "Given an integer array nums of length n and an integer target, find three integers in nums such that the sum is closest to target.\n",
    "\n",
    "Return the sum of the three integers.\n",
    "\n",
    "You may assume that each input would have exactly one solution."
   ]
  },
  {
   "cell_type": "code",
   "execution_count": 1,
   "id": "80180cf8",
   "metadata": {},
   "outputs": [],
   "source": [
    "class Solution(object):\n",
    "    def threeSumClosest(self, nums, target):\n",
    "        \"\"\"\n",
    "        :type nums: List[int]\n",
    "        :type target: int\n",
    "        :rtype: int\n",
    "        \"\"\"\n",
    "        # sort the array - O(nlog n)\n",
    "        nums.sort()\n",
    "        # we will use two pointers l and r to calculate the sum of three elements\n",
    "        # initialize two variable sums and closest diff, sums is the sum of three elements\n",
    "        # closest diff is to track the closest difference between target sum and current sum\n",
    "        sums=nums[0]+nums[1]+nums[(len(nums)-1)]\n",
    "        closest_diff=sums-target if sums>target else target-sums\n",
    "        closest_sum=0\n",
    "        # for all elements in array\n",
    "        for i in range(len(nums)):\n",
    "            # define left and right pointer\n",
    "            l=i+1\n",
    "            r=len(nums)-1\n",
    "            # while left pointer is lesser than right\n",
    "            while l<r:\n",
    "                # calculate sum of three numbers for current combination and current different to the target\n",
    "                sums=nums[i]+nums[l]+nums[r]\n",
    "                diff_to_closest=sums-target if sums>target else target-sums\n",
    "                # if current defference is lesser than the global difference\n",
    "                if(diff_to_closest<=closest_diff):\n",
    "                    # update global difference and global sums\n",
    "                    closest_diff=diff_to_closest\n",
    "                    closest_sum=sums\n",
    "                # if sums = target return the sum immidiately    \n",
    "                if(sums==target):\n",
    "                    return sums\n",
    "                # if sums>target,we need to reduce it\n",
    "                # as the array is sorterd that means we need to reduce the right pointer\n",
    "                elif (sums>target):\n",
    "                    r-=1\n",
    "                # else we need to increase the sum, moving to the right    \n",
    "                else:\n",
    "                    l+=1\n",
    "        return closest_sum              \n",
    "        "
   ]
  },
  {
   "cell_type": "code",
   "execution_count": 2,
   "id": "94881e62",
   "metadata": {},
   "outputs": [
    {
     "data": {
      "text/plain": [
       "2"
      ]
     },
     "execution_count": 2,
     "metadata": {},
     "output_type": "execute_result"
    }
   ],
   "source": [
    "Solution().threeSumClosest([-1,2,1,-4],1)"
   ]
  },
  {
   "cell_type": "code",
   "execution_count": null,
   "id": "24978a4a",
   "metadata": {},
   "outputs": [],
   "source": []
  }
 ],
 "metadata": {
  "kernelspec": {
   "display_name": "Python 3",
   "language": "python",
   "name": "python3"
  },
  "language_info": {
   "codemirror_mode": {
    "name": "ipython",
    "version": 3
   },
   "file_extension": ".py",
   "mimetype": "text/x-python",
   "name": "python",
   "nbconvert_exporter": "python",
   "pygments_lexer": "ipython3",
   "version": "3.9.5"
  }
 },
 "nbformat": 4,
 "nbformat_minor": 5
}
