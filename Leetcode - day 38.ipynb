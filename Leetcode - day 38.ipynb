{
 "cells": [
  {
   "cell_type": "markdown",
   "id": "0a29915b",
   "metadata": {},
   "source": [
    "# Course Schedule II\n",
    "\n",
    "There are a total of numCourses courses you have to take, labeled from 0 to numCourses - 1. You are given an array prerequisites where prerequisites[i] = [ai, bi] indicates that you must take course bi first if you want to take course ai.\n",
    "\n",
    "For example, the pair [0, 1], indicates that to take course 0 you have to first take course 1.\n",
    "Return the ordering of courses you should take to finish all courses. If there are many valid answers, return any of them. If it is impossible to finish all courses, return an empty array.\n",
    "\n",
    " \n",
    "\n",
    "Example 1:\n",
    "\n",
    "Input: numCourses = 2, prerequisites = [[1,0]]\n",
    "Output: [0,1]\n",
    "Explanation: There are a total of 2 courses to take. To take course 1 you should have finished course 0. So the correct course order is [0,1].\n",
    "\n",
    "Example 2:\n",
    "\n",
    "Input: numCourses = 4, prerequisites = [[1,0],[2,0],[3,1],[3,2]]\n",
    "Output: [0,2,1,3]\n",
    "Explanation: There are a total of 4 courses to take. To take course 3 you should have finished both courses 1 and 2. Both courses 1 and 2 should be taken after you finished course 0.\n",
    "So one correct course order is [0,1,2,3]. Another correct ordering is [0,2,1,3]."
   ]
  },
  {
   "cell_type": "code",
   "execution_count": 2,
   "id": "6d7ff7e2",
   "metadata": {},
   "outputs": [],
   "source": [
    "class Solution:\n",
    "    def findOrder(self, numCourses, prerequisites):\n",
    "        # create adjacency list\n",
    "        reqMap={i:[] for i in range(numCourses)}\n",
    "        for course in prerequisites:\n",
    "            reqMap[course[0]].append(course[1])\n",
    "        # data structure to keep track of\n",
    "        visited,cycle=[],[]\n",
    "        # dfs method to traserve the graph\n",
    "        def dfs(course):\n",
    "            # is there is a cyclic depedency return False\n",
    "            if course in cycle:\n",
    "                return False\n",
    "            # the the couse is already visited, it can be completed-return True\n",
    "            if course in visited:\n",
    "                return True\n",
    "            # add the course to cycle to track cyclic dependency\n",
    "            cycle.append(course)\n",
    "            # for each preReqs for the current course\n",
    "            for preReq in reqMap[course]:\n",
    "                # run DFS, if there is a cycle in the graph returmn False immidiately\n",
    "                if dfs(preReq)==False:\n",
    "                    return False\n",
    "            # add the course to visited    \n",
    "            visited.append(course)    \n",
    "            # remove the current course from cycle data structure\n",
    "            cycle.remove(course)\n",
    "        # for each course    \n",
    "        for course in  range(numCourses):\n",
    "            # run DFS, if there is a cycle, the courses can not be completed\n",
    "            if dfs(course)==False:\n",
    "                return [] \n",
    "        return visited    "
   ]
  },
  {
   "cell_type": "code",
   "execution_count": 4,
   "id": "c265d8bc",
   "metadata": {},
   "outputs": [
    {
     "data": {
      "text/plain": [
       "[0, 1, 2, 3]"
      ]
     },
     "execution_count": 4,
     "metadata": {},
     "output_type": "execute_result"
    }
   ],
   "source": [
    "Solution().findOrder(4,[[1,0],[2,0],[3,1],[3,2]])"
   ]
  }
 ],
 "metadata": {
  "kernelspec": {
   "display_name": "Python 3 (ipykernel)",
   "language": "python",
   "name": "python3"
  },
  "language_info": {
   "codemirror_mode": {
    "name": "ipython",
    "version": 3
   },
   "file_extension": ".py",
   "mimetype": "text/x-python",
   "name": "python",
   "nbconvert_exporter": "python",
   "pygments_lexer": "ipython3",
   "version": "3.9.7"
  }
 },
 "nbformat": 4,
 "nbformat_minor": 5
}
