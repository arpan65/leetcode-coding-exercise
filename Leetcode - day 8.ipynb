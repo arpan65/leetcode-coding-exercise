{
 "cells": [
  {
   "cell_type": "markdown",
   "id": "ae4a2e97",
   "metadata": {},
   "source": [
    "# Leetcode - day 8"
   ]
  },
  {
   "cell_type": "markdown",
   "id": "1209cd4c",
   "metadata": {},
   "source": [
    "### 4 SUM\n",
    "\n",
    "Given an array nums of n integers, return an array of all the unique quadruplets [nums[a], nums[b], nums[c], nums[d]] such that:\n",
    "\n",
    "0 <= a, b, c, d < n\n",
    "a, b, c, and d are distinct.\n",
    "nums[a] + nums[b] + nums[c] + nums[d] == target\n",
    "You may return the answer in any order."
   ]
  },
  {
   "cell_type": "markdown",
   "id": "99ce80d6",
   "metadata": {},
   "source": [
    "Example 1:\n",
    "\n",
    "Input: nums = [1,0,-1,0,-2,2], target = 0\n",
    "Output: [[-2,-1,1,2],[-2,0,0,2],[-1,0,0,1]]\n",
    "\n",
    "\n",
    "Example 2:\n",
    "\n",
    "Input: nums = [2,2,2,2,2], target = 8\n",
    "Output: [[2,2,2,2]]\n",
    " \n",
    "\n",
    "Constraints:\n",
    "\n",
    "1 <= nums.length <= 200\n",
    "-109 <= nums[i] <= 109\n",
    "-109 <= target <= 109\n"
   ]
  },
  {
   "cell_type": "markdown",
   "id": "fb039a1a",
   "metadata": {},
   "source": [
    "### solution:\n",
    "\n",
    "We have solved the twosum problem with two pointers, similarly the threesum problem with one outer loop and two pointers.\n",
    "\n",
    "Now if we want to do the same for 4sum we need two recursive loops along with the two pointer solution. What if we need to extend the problem to 5 sum, 6 sum or up to k sum? "
   ]
  },
  {
   "cell_type": "code",
   "execution_count": 5,
   "id": "07648144",
   "metadata": {},
   "outputs": [],
   "source": [
    "class Solution:\n",
    "    def fourSum(self, nums,target):\n",
    "        \n",
    "        # method for kSum\n",
    "        def kSum(nums,target,k):\n",
    "            res=[]\n",
    "            # if length of the array is 0 or the target is impossible to acheive return []\n",
    "            if(len(nums)==0 or target<nums[0]*k or target>nums[len(nums)-1]*k):\n",
    "                return []\n",
    "            # if k=2 call twoSum method\n",
    "            elif(k==2):\n",
    "                return twoSum(nums,target)\n",
    "            else:\n",
    "                # else for unique element in the array call kSum(arr[next elements],new target, k-1)\n",
    "                for i in range(len(nums)):\n",
    "                    if(i==0 or nums[i]!=nums[i-1]):\n",
    "                        subsets=kSum(nums[i+1::],target-nums[i],k-1)\n",
    "                        # for each element in the subset add the current element\n",
    "                        # note NONE+ array[i] will be NONE so only valid combinations will bubble up\n",
    "                        for ele in subsets:\n",
    "                            res.append(ele+[nums[i]])\n",
    "            return res                \n",
    "        \n",
    "        # method for two Sum\n",
    "        def twoSum(nums,target):\n",
    "            # define two pointers l which points the first element and r which points the last element\n",
    "            # NOTE: the array is already sorted\n",
    "            l=0\n",
    "            r=len(nums)-1\n",
    "            res=[]\n",
    "            # while left pointer is less than right one\n",
    "            while l<r:\n",
    "                # calculate sum of these two elements\n",
    "                sums=nums[l]+nums[r]\n",
    "                # if sum is less than target or the current element is duplicate, move right\n",
    "                if(sums<target or (l>0 and nums[l-1]==nums[l])):\n",
    "                    l+=1\n",
    "                # else if sum = target, add the elements to result list, reduce right pointer, increase left    \n",
    "                elif(sums==target):\n",
    "                    res.append([nums[l],nums[r]])\n",
    "                    l+=1\n",
    "                    r-=1\n",
    "                # othereise if sum>target we need to reduce the sum, so move left    \n",
    "                else:\n",
    "                    r-=1\n",
    "            return res\n",
    "        \n",
    "        # sort the input array\n",
    "        nums.sort()\n",
    "\n",
    "        return kSum(nums,target,4)  "
   ]
  },
  {
   "cell_type": "code",
   "execution_count": 6,
   "id": "abe85676",
   "metadata": {},
   "outputs": [
    {
     "data": {
      "text/plain": [
       "[[1, 2, -1, -2], [0, 2, 0, -2], [0, 1, 0, -1]]"
      ]
     },
     "execution_count": 6,
     "metadata": {},
     "output_type": "execute_result"
    }
   ],
   "source": [
    "Solution().fourSum([1,0,-1,0,-2,2],0)"
   ]
  }
 ],
 "metadata": {
  "kernelspec": {
   "display_name": "Python 3",
   "language": "python",
   "name": "python3"
  },
  "language_info": {
   "codemirror_mode": {
    "name": "ipython",
    "version": 3
   },
   "file_extension": ".py",
   "mimetype": "text/x-python",
   "name": "python",
   "nbconvert_exporter": "python",
   "pygments_lexer": "ipython3",
   "version": "3.9.5"
  }
 },
 "nbformat": 4,
 "nbformat_minor": 5
}
