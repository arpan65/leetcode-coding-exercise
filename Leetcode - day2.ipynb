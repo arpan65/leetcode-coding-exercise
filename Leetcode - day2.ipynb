{
 "cells": [
  {
   "cell_type": "markdown",
   "id": "459221d3",
   "metadata": {},
   "source": [
    "## Leetcode - Day 2"
   ]
  },
  {
   "cell_type": "markdown",
   "id": "cb70b29c",
   "metadata": {},
   "source": [
    "### Reverse Digits\n",
    "\n",
    "Given a signed 32-bit integer x, return x with its digits reversed. If reversing x causes the value to go outside the signed 32-bit integer range [-231, 231 - 1], then return 0. \n",
    "\n",
    "\n",
    "Assume the environment does not allow you to store 64-bit integers (signed or unsigned)."
   ]
  },
  {
   "cell_type": "code",
   "execution_count": 1,
   "id": "87eb117e",
   "metadata": {},
   "outputs": [],
   "source": [
    "    def reverse(x):\n",
    "        \"\"\"\n",
    "        :type x: int\n",
    "        :rtype: int\n",
    "        \n",
    "        \"\"\"\n",
    "        # let x=123\n",
    "        if(x==0):\n",
    "            return 0\n",
    "        rev=0\n",
    "        x_=abs(x)\n",
    "        while x_:\n",
    "            # 0*10+123%10=3\n",
    "            rev=rev*10+x_%10\n",
    "            # x= 12\n",
    "            x_=int(x_/10)\n",
    "        rev= rev*int(x/abs(x))    \n",
    "        if(rev<pow(-2,31) or rev>(pow(2,31)-1)):\n",
    "            return 0\n",
    "        return  rev  "
   ]
  },
  {
   "cell_type": "markdown",
   "id": "4e45fd7e",
   "metadata": {},
   "source": [
    "Edge Cases: x=0, x in minus, x within upper limit and lower limit"
   ]
  },
  {
   "cell_type": "code",
   "execution_count": 2,
   "id": "569a146d",
   "metadata": {},
   "outputs": [
    {
     "data": {
      "text/plain": [
       "463847412"
      ]
     },
     "execution_count": 2,
     "metadata": {},
     "output_type": "execute_result"
    }
   ],
   "source": [
    "reverse(214748364)"
   ]
  },
  {
   "cell_type": "markdown",
   "id": "e45dd322",
   "metadata": {},
   "source": [
    "### Remove Duplicates from Sorted Array\n",
    "\n",
    "Given an integer array nums sorted in non-decreasing order, remove the duplicates in-place such that each unique element appears only once. The relative order of the elements should be kept the same.\n",
    "\n",
    "Since it is impossible to change the length of the array in some languages, you must instead have the result be placed in the first part of the array nums. More formally, if there are k elements after removing the duplicates, then the first k elements of nums should hold the final result. It does not matter what you leave beyond the first k elements.\n",
    "\n",
    "Return k after placing the final result in the first k slots of nums.\n",
    "\n",
    "Do not allocate extra space for another array. You must do this by modifying the input array in-place with O(1) extra memory."
   ]
  },
  {
   "cell_type": "markdown",
   "id": "1afaaf6e",
   "metadata": {},
   "source": [
    "Approach 1:"
   ]
  },
  {
   "cell_type": "code",
   "execution_count": 7,
   "id": "97630541",
   "metadata": {},
   "outputs": [],
   "source": [
    "    def removeDuplicates(nums):\n",
    "        \"\"\"\n",
    "        :type nums: List[int]\n",
    "        :rtype: int\n",
    "        \"\"\"\n",
    "        # define a list to hold unique\n",
    "        unique_items=[]\n",
    "        # for element in nums\n",
    "        for i in range(len(nums)):\n",
    "            # if the element is not already in list, add it\n",
    "            if(nums[i] not in unique_items):\n",
    "                unique_items.append(nums[i])\n",
    "        # the list only have the unique values         \n",
    "        for i in range(len(unique_items)):\n",
    "            nums[i]=unique_items[i]\n",
    "        print(nums)    \n",
    "        return len(unique_items)"
   ]
  },
  {
   "cell_type": "code",
   "execution_count": 8,
   "id": "6c4f7e23",
   "metadata": {},
   "outputs": [
    {
     "name": "stdout",
     "output_type": "stream",
     "text": [
      "[-1, 0, 3, 0, 0, 3, 3]\n"
     ]
    },
    {
     "data": {
      "text/plain": [
       "3"
      ]
     },
     "execution_count": 8,
     "metadata": {},
     "output_type": "execute_result"
    }
   ],
   "source": [
    "removeDuplicates([-1,0,0,0,0,3,3])"
   ]
  },
  {
   "cell_type": "markdown",
   "id": "f9a76adf",
   "metadata": {},
   "source": [
    "Approach 2:"
   ]
  },
  {
   "cell_type": "code",
   "execution_count": 15,
   "id": "e8e760ea",
   "metadata": {},
   "outputs": [],
   "source": [
    "    def removeDuplicates(nums):\n",
    "        \"\"\"\n",
    "        :type nums: List[int]\n",
    "        :rtype: int\n",
    "        \"\"\"\n",
    "        # if length of nums is 0 or 1 return length of nums\n",
    "        if(len(nums)==0 or len(nums)==1):\n",
    "            return len(nums)\n",
    "        # initialize two pointers at 0 and 1\n",
    "        i,j=0,1\n",
    "        # while j is less than length of the array\n",
    "        while j<len(nums):\n",
    "            # if the numbers are different\n",
    "            if(nums[i]!=nums[j]):\n",
    "                # increase the i and replace the element with the element of pointer j\n",
    "                i+=1\n",
    "                nums[i]=nums[j]\n",
    "            # increase the pointer j    \n",
    "            j+=1\n",
    "        print(nums)    \n",
    "        return i+1     \n",
    "            "
   ]
  },
  {
   "cell_type": "code",
   "execution_count": 16,
   "id": "fded2faf",
   "metadata": {},
   "outputs": [
    {
     "name": "stdout",
     "output_type": "stream",
     "text": [
      "[-1, 0, 3, 0, 0, 3, 3]\n"
     ]
    },
    {
     "data": {
      "text/plain": [
       "3"
      ]
     },
     "execution_count": 16,
     "metadata": {},
     "output_type": "execute_result"
    }
   ],
   "source": [
    "removeDuplicates([-1,0,0,0,0,3,3])"
   ]
  }
 ],
 "metadata": {
  "kernelspec": {
   "display_name": "Python 3",
   "language": "python",
   "name": "python3"
  },
  "language_info": {
   "codemirror_mode": {
    "name": "ipython",
    "version": 3
   },
   "file_extension": ".py",
   "mimetype": "text/x-python",
   "name": "python",
   "nbconvert_exporter": "python",
   "pygments_lexer": "ipython3",
   "version": "3.9.5"
  }
 },
 "nbformat": 4,
 "nbformat_minor": 5
}
