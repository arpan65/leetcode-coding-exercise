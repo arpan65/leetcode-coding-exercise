{
 "cells": [
  {
   "cell_type": "markdown",
   "id": "8925bfd0",
   "metadata": {},
   "source": [
    "## Leetcode-day 6"
   ]
  },
  {
   "cell_type": "markdown",
   "id": "7ab561e9",
   "metadata": {},
   "source": [
    "### Letter Combinations of a Phone Number\n",
    "\n",
    "Given a string containing digits from 2-9 inclusive, return all possible letter combinations that the number could represent. Return the answer in any order.\n",
    "\n",
    "A mapping of digit to letters (just like on the telephone buttons) is given below. Note that 1 does not map to any letters."
   ]
  },
  {
   "cell_type": "code",
   "execution_count": 21,
   "id": "806764e9",
   "metadata": {},
   "outputs": [],
   "source": [
    "class Solution(object):\n",
    "    def letterCombinations(self, digits):\n",
    "        \"\"\"\n",
    "        :type digits: str\n",
    "        :rtype: List[str]\n",
    "        \"\"\"\n",
    "        # dict for digit to letter mappings\n",
    "        letter_dict={2:\"abc\",3:\"def\",4:\"ghi\",5:\"jkl\",6:\"mno\",7:\"pqrs\",8:\"tuv\",9:\"wxyz\"}\n",
    "        res=[]\n",
    "        # if digits is null string return empty list\n",
    "        if(not digits):\n",
    "            return res\n",
    "        # function to traverse the tree using DFS - backtracking\n",
    "        # let digits=23, i=0 , cur=\"\"\n",
    "        def backtrack(i,cur):\n",
    "            # base case for the recursion, suppose cur=\"ab\" , len=2=len of digits, add cur to res and return\n",
    "            if(len(digits)==len(cur)):\n",
    "                res.append(cur)\n",
    "                return\n",
    "            # for letter in the mapping elements - increment the index and call recursively\n",
    "            for letter in letter_dict[int(digits[i])]:\n",
    "                backtrack(i+1,cur+letter)       \n",
    "        backtrack(0,\"\")\n",
    "        return res \n",
    "            "
   ]
  },
  {
   "cell_type": "code",
   "execution_count": 22,
   "id": "49c5fd0d",
   "metadata": {},
   "outputs": [
    {
     "data": {
      "text/plain": [
       "['ad', 'ae', 'af', 'bd', 'be', 'bf', 'cd', 'ce', 'cf']"
      ]
     },
     "execution_count": 22,
     "metadata": {},
     "output_type": "execute_result"
    }
   ],
   "source": [
    "Solution().letterCombinations(\"23\")"
   ]
  },
  {
   "cell_type": "markdown",
   "id": "32de0bd4",
   "metadata": {},
   "source": [
    "<b>Important Concepts:</b> DFS, backtracking             \n",
    "\n",
    "\n",
    "<b>Explaination:</b> https://www.youtube.com/watch?v=0snEunUacZY"
   ]
  },
  {
   "cell_type": "markdown",
   "id": "accc8b18",
   "metadata": {},
   "source": [
    "### Search in Rotated Sorted Array\n",
    "\n",
    "There is an integer array nums sorted in ascending order (with distinct values).\n",
    "\n",
    "Prior to being passed to your function, nums is rotated at an unknown pivot index k (0 <= k < nums.length) such that the resulting array is [nums[k], nums[k+1], ..., nums[n-1], nums[0], nums[1], ..., nums[k-1]] (0-indexed). For example, [0,1,2,4,5,6,7] might be rotated at pivot index 3 and become [4,5,6,7,0,1,2].\n",
    "\n",
    "Given the array nums after the rotation and an integer target, return the index of target if it is in nums, or -1 if it is not in nums.\n",
    "\n",
    "You must write an algorithm with O(log n) runtime complexity."
   ]
  },
  {
   "cell_type": "code",
   "execution_count": 3,
   "id": "18e186e9",
   "metadata": {},
   "outputs": [],
   "source": [
    "class Solution(object):\n",
    "    def search(self, nums, target):\n",
    "        \"\"\"\n",
    "        :type nums: List[int]\n",
    "        :type target: int\n",
    "        :rtype: int\n",
    "        \"\"\"\n",
    "        # we can solve this by twiking binary search\n",
    "        l,r=0,len(nums)-1\n",
    "        # while left pointer is less than right pointer\n",
    "        while(l<=r):\n",
    "            # calculate middle index\n",
    "            mid=int((l+r)/2)\n",
    "            # if target = middle index return middle index\n",
    "            if(target==nums[mid]):\n",
    "                return mid\n",
    "            # if the element at left index is less/ equal to the middle element - left side is sorted\n",
    "            elif(nums[l]<=nums[mid]):\n",
    "                # if the target is in the left side\n",
    "                if(nums[l]<=target and target<nums[mid]):\n",
    "                    # set right pointer as middle-1, discard right side of the array\n",
    "                    r=mid-1\n",
    "                # else the element must be in the right side - discard left side of the array    \n",
    "                else:\n",
    "                    l=mid+1   \n",
    "            # else if the right side of the middle is sorted\n",
    "            else:\n",
    "                # if the element is in the right side\n",
    "                if(target>nums[mid] and target<=nums[r]):\n",
    "                    # discard left side of the array\n",
    "                    l=mid+1\n",
    "                else:\n",
    "                    # discard right side of the array\n",
    "                    r=mid-1          \n",
    "        return -1\n",
    "\n",
    "\n"
   ]
  },
  {
   "cell_type": "code",
   "execution_count": null,
   "id": "4baaf2cd",
   "metadata": {},
   "outputs": [],
   "source": [
    "Solution().search()"
   ]
  },
  {
   "cell_type": "markdown",
   "id": "ce7b36c1",
   "metadata": {},
   "source": [
    "<b>Time Complexity:<b> O(log n)\n",
    "    \n",
    "<b>Explaination:<b> https://www.youtube.com/watch?v=r3pMQ8-Ad5s&t=362s    "
   ]
  }
 ],
 "metadata": {
  "kernelspec": {
   "display_name": "Python 3",
   "language": "python",
   "name": "python3"
  },
  "language_info": {
   "codemirror_mode": {
    "name": "ipython",
    "version": 3
   },
   "file_extension": ".py",
   "mimetype": "text/x-python",
   "name": "python",
   "nbconvert_exporter": "python",
   "pygments_lexer": "ipython3",
   "version": "3.9.5"
  }
 },
 "nbformat": 4,
 "nbformat_minor": 5
}
