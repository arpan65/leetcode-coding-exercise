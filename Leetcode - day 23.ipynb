{
 "cells": [
  {
   "cell_type": "markdown",
   "id": "e9cffc74",
   "metadata": {},
   "source": [
    "## Target Sum\n",
    "\n",
    "You are given an integer array nums and an integer target.\n",
    "\n",
    "You want to build an expression out of nums by adding one of the symbols '+' and '-' before each integer in nums and then concatenate all the integers.\n",
    "\n",
    "For example, if nums = [2, 1], you can add a '+' before 2 and a '-' before 1 and concatenate them to build the expression \"+2-1\".\n",
    "Return the number of different expressions that you can build, which evaluates to target.\n",
    "\n",
    " \n",
    "\n",
    "Example 1:\n",
    "\n",
    "Input: nums = [1,1,1,1,1], target = 3\n",
    "Output: 5\n",
    "Explanation: There are 5 ways to assign symbols to make the sum of nums be target 3.\n",
    "-1 + 1 + 1 + 1 + 1 = 3\n",
    "+1 - 1 + 1 + 1 + 1 = 3\n",
    "+1 + 1 - 1 + 1 + 1 = 3\n",
    "+1 + 1 + 1 - 1 + 1 = 3\n",
    "+1 + 1 + 1 + 1 - 1 = 3\n",
    "\n",
    "\n",
    "Example 2:\n",
    "\n",
    "Input: nums = [1], target = 1\n",
    "Output: 1"
   ]
  },
  {
   "cell_type": "markdown",
   "id": "530a3b49",
   "metadata": {},
   "source": [
    "### Approach1: Recursion with memoization"
   ]
  },
  {
   "cell_type": "code",
   "execution_count": 2,
   "id": "7ab4eedd",
   "metadata": {},
   "outputs": [],
   "source": [
    "class Solution:\n",
    "    def findTargetSumWays(self, nums, target):\n",
    "        memory={}\n",
    "        def dynamicP(cur,nums,i):\n",
    "            if cur==target and len(nums)==0:\n",
    "                return 1\n",
    "            elif len(nums)==0:\n",
    "                return 0\n",
    "            if (cur,str(nums)) in memory:\n",
    "                return memory[(cur,str(nums))]\n",
    "            memory[(cur,str(nums))]=dynamicP(cur+nums[0],nums[i+1::],i)+dynamicP(cur-nums[0],nums[i+1::],i)\n",
    "            return memory[(cur,str(nums))]\n",
    "            \n",
    "        return dynamicP(0,nums,0)\n",
    "            "
   ]
  },
  {
   "cell_type": "code",
   "execution_count": 3,
   "id": "61bf199b",
   "metadata": {},
   "outputs": [
    {
     "data": {
      "text/plain": [
       "2"
      ]
     },
     "execution_count": 3,
     "metadata": {},
     "output_type": "execute_result"
    }
   ],
   "source": [
    "Solution().findTargetSumWays([1,2,1],0)"
   ]
  }
 ],
 "metadata": {
  "kernelspec": {
   "display_name": "Python 3",
   "language": "python",
   "name": "python3"
  },
  "language_info": {
   "codemirror_mode": {
    "name": "ipython",
    "version": 3
   },
   "file_extension": ".py",
   "mimetype": "text/x-python",
   "name": "python",
   "nbconvert_exporter": "python",
   "pygments_lexer": "ipython3",
   "version": "3.9.5"
  }
 },
 "nbformat": 4,
 "nbformat_minor": 5
}
