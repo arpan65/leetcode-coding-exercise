{
 "cells": [
  {
   "cell_type": "markdown",
   "id": "27d2b2e2",
   "metadata": {},
   "source": [
    "# Leetcode - day 5"
   ]
  },
  {
   "cell_type": "markdown",
   "id": "35deebe8",
   "metadata": {},
   "source": [
    "## Find First and Last Position of Element in Sorted Array\n",
    "\n",
    "Given an array of integers nums sorted in ascending order, find the starting and ending position of a given target value.\n",
    "\n",
    "If target is not found in the array, return [-1, -1].\n",
    "\n",
    "You must write an algorithm with O(log n) runtime complexity."
   ]
  },
  {
   "cell_type": "code",
   "execution_count": 145,
   "id": "623975b1",
   "metadata": {},
   "outputs": [],
   "source": [
    "class Solution(object):\n",
    "    # utility to find the index using binary search\n",
    "    def index(self,nums,target,low,high,index_type='first'):\n",
    "        res=-1\n",
    "        # while lower index in lesser than higher\n",
    "        while low<=high:\n",
    "            # calculate mid index\n",
    "            mid=int((low+high)/2)\n",
    "            # if nums[mid] is target set the result\n",
    "            if( nums[mid]==target):\n",
    "                res= mid\n",
    "                # if first occurance is needed set the index before mid as high index, to search the left array\n",
    "                if(index_type=='first'):\n",
    "                    high=mid-1\n",
    "                # if last occurance is needed set the index after mid as low index, to search the right array    \n",
    "                else:\n",
    "                    low=mid+1\n",
    "            # if target is lower than mid element search the left array        \n",
    "            elif(target<nums[mid]):\n",
    "                high=mid-1\n",
    "            # if target is greater than mid element search the right array \n",
    "            else:\n",
    "                low=mid+1\n",
    "        return res       \n",
    "            \n",
    "\n",
    "    def searchRange(self, nums, target):\n",
    "        \"\"\"\n",
    "        :type nums: List[int]\n",
    "        :type target: int\n",
    "        :rtype: List[int]\n",
    "        \"\"\"\n",
    "        first=self.index(nums,target,low=0,high=len(nums)-1,index_type='first')\n",
    "        last=self.index(nums,target,low=0,high=len(nums)-1,index_type='last')\n",
    "        return[first,last]"
   ]
  },
  {
   "cell_type": "code",
   "execution_count": 146,
   "id": "01de2a4e",
   "metadata": {},
   "outputs": [
    {
     "data": {
      "text/plain": [
       "[3, 6]"
      ]
     },
     "execution_count": 146,
     "metadata": {},
     "output_type": "execute_result"
    }
   ],
   "source": [
    "nums = [5,7,7,8,8,8,8,10]\n",
    "Solution().searchRange(nums,8)"
   ]
  }
 ],
 "metadata": {
  "kernelspec": {
   "display_name": "Python 3",
   "language": "python",
   "name": "python3"
  },
  "language_info": {
   "codemirror_mode": {
    "name": "ipython",
    "version": 3
   },
   "file_extension": ".py",
   "mimetype": "text/x-python",
   "name": "python",
   "nbconvert_exporter": "python",
   "pygments_lexer": "ipython3",
   "version": "3.9.5"
  }
 },
 "nbformat": 4,
 "nbformat_minor": 5
}
