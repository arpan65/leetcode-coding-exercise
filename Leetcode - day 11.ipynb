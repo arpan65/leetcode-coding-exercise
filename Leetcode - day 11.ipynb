{
 "cells": [
  {
   "cell_type": "markdown",
   "id": "334fcada",
   "metadata": {},
   "source": [
    "# Leetcode - day 10"
   ]
  },
  {
   "cell_type": "markdown",
   "id": "bef38129",
   "metadata": {},
   "source": [
    "## Permutations\n",
    "\n",
    "Given an array nums of distinct integers, return all the possible permutations. You can return the answer in any order."
   ]
  },
  {
   "cell_type": "markdown",
   "id": "829128a1",
   "metadata": {},
   "source": [
    "Example 1:\n",
    "\n",
    "Input: nums = [1,2,3]\n",
    "Output: [[1,2,3],[1,3,2],[2,1,3],[2,3,1],[3,1,2],[3,2,1]]\n",
    "\n",
    "\n",
    "Example 2:\n",
    "\n",
    "Input: nums = [0,1]\n",
    "Output: [[0,1],[1,0]]\n",
    "\n",
    "\n",
    "Example 3:\n",
    "\n",
    "Input: nums = [1]\n",
    "Output: [[1]]\n"
   ]
  },
  {
   "cell_type": "code",
   "execution_count": 9,
   "id": "3756be2f",
   "metadata": {},
   "outputs": [],
   "source": [
    "class Solution:\n",
    "    def permute(self, nums):\n",
    "        res=[]\n",
    "        if(len(nums)==1):\n",
    "            return [nums]\n",
    "        for i in range(len(nums)):\n",
    "            cur=nums.pop(0)\n",
    "            print('current poped item:',cur,'current nums:',nums)\n",
    "            for ele in self.permute(nums):\n",
    "                res.append(ele+[cur]) \n",
    "            print('cur result:',res)   \n",
    "            nums.append(cur) \n",
    "            print('cur nums after adding poped item:',nums)\n",
    "            print('-'*50)\n",
    "        return res        "
   ]
  },
  {
   "cell_type": "code",
   "execution_count": 10,
   "id": "261b6d6c",
   "metadata": {},
   "outputs": [
    {
     "name": "stdout",
     "output_type": "stream",
     "text": [
      "current poped item: 1 current nums: [2, 3]\n",
      "current poped item: 2 current nums: [3]\n",
      "cur result: [[3, 2]]\n",
      "cur nums after adding poped item: [3, 2]\n",
      "--------------------------------------------------\n",
      "current poped item: 3 current nums: [2]\n",
      "cur result: [[3, 2], [2, 3]]\n",
      "cur nums after adding poped item: [2, 3]\n",
      "--------------------------------------------------\n",
      "cur result: [[3, 2, 1], [2, 3, 1]]\n",
      "cur nums after adding poped item: [2, 3, 1]\n",
      "--------------------------------------------------\n",
      "current poped item: 2 current nums: [3, 1]\n",
      "current poped item: 3 current nums: [1]\n",
      "cur result: [[1, 3]]\n",
      "cur nums after adding poped item: [1, 3]\n",
      "--------------------------------------------------\n",
      "current poped item: 1 current nums: [3]\n",
      "cur result: [[1, 3], [3, 1]]\n",
      "cur nums after adding poped item: [3, 1]\n",
      "--------------------------------------------------\n",
      "cur result: [[3, 2, 1], [2, 3, 1], [1, 3, 2], [3, 1, 2]]\n",
      "cur nums after adding poped item: [3, 1, 2]\n",
      "--------------------------------------------------\n",
      "current poped item: 3 current nums: [1, 2]\n",
      "current poped item: 1 current nums: [2]\n",
      "cur result: [[2, 1]]\n",
      "cur nums after adding poped item: [2, 1]\n",
      "--------------------------------------------------\n",
      "current poped item: 2 current nums: [1]\n",
      "cur result: [[2, 1], [1, 2]]\n",
      "cur nums after adding poped item: [1, 2]\n",
      "--------------------------------------------------\n",
      "cur result: [[3, 2, 1], [2, 3, 1], [1, 3, 2], [3, 1, 2], [2, 1, 3], [1, 2, 3]]\n",
      "cur nums after adding poped item: [1, 2, 3]\n",
      "--------------------------------------------------\n"
     ]
    },
    {
     "data": {
      "text/plain": [
       "[[3, 2, 1], [2, 3, 1], [1, 3, 2], [3, 1, 2], [2, 1, 3], [1, 2, 3]]"
      ]
     },
     "execution_count": 10,
     "metadata": {},
     "output_type": "execute_result"
    }
   ],
   "source": [
    "Solution().permute([1,2,3])"
   ]
  },
  {
   "cell_type": "markdown",
   "id": "9b312ab4",
   "metadata": {},
   "source": [
    "## Permutations II\n",
    "\n",
    "\n",
    "Given a collection of numbers, nums, that might contain duplicates, return all possible unique permutations in any order.\n",
    "\n",
    " \n",
    "\n",
    "Example 1:\n",
    "\n",
    "Input: nums = [1,1,2]\n",
    "Output:\n",
    "[[1,1,2],\n",
    " [1,2,1],\n",
    " [2,1,1]]\n",
    " \n",
    " \n",
    "Example 2:\n",
    "\n",
    "Input: nums = [1,2,3]\n",
    "Output: [[1,2,3],[1,3,2],[2,1,3],[2,3,1],[3,1,2],[3,2,1]]"
   ]
  },
  {
   "cell_type": "markdown",
   "id": "3913733f",
   "metadata": {},
   "source": [
    "### Approach1"
   ]
  },
  {
   "cell_type": "code",
   "execution_count": 29,
   "id": "0a12963c",
   "metadata": {},
   "outputs": [],
   "source": [
    "class Solution:\n",
    "    def permuteUnique(self, nums):\n",
    "        # initialize a counter with all the element {1:2,2:1}\n",
    "        counter={}\n",
    "        for ele in nums:\n",
    "            if(ele not in counter.keys()):\n",
    "                counter[ele]=1\n",
    "            else:\n",
    "                counter[ele]+=1\n",
    "        res=[]\n",
    "        # method to traverse the graph\n",
    "        def dfs(cur,counter):\n",
    "            # if length of current subset is equal to length of elements add the subset to the result list\n",
    "            if(len(cur)==len(nums)):\n",
    "                res.append(cur.copy())   \n",
    "            # for each unique elements in the counter    \n",
    "            for ele in counter.keys():\n",
    "                # if the couter for current element is not 0\n",
    "                if(counter[ele]>0):\n",
    "                    # add the element to the current subset\n",
    "                    cur.append(ele)\n",
    "                    print('current element:',ele,'cur subset:',cur,'counter:',str(counter))\n",
    "                    # update the counter\n",
    "                    counter[ele]-=1\n",
    "                    # call dfs method with current subset and counter\n",
    "                    dfs (cur,counter)\n",
    "                    # update the counter and subset for backtracking\n",
    "                    counter[ele]+=1\n",
    "                    cur.pop(-1)\n",
    "                    print('current element:',ele,'cur subset:',cur,'counter:',str(counter))\n",
    "            return res\n",
    "        return dfs([],counter)"
   ]
  },
  {
   "cell_type": "code",
   "execution_count": 30,
   "id": "51be59ec",
   "metadata": {},
   "outputs": [
    {
     "name": "stdout",
     "output_type": "stream",
     "text": [
      "current element: 1 cur subset: [1] counter: {1: 2, 2: 1}\n",
      "current element: 1 cur subset: [1, 1] counter: {1: 1, 2: 1}\n",
      "current element: 2 cur subset: [1, 1, 2] counter: {1: 0, 2: 1}\n",
      "current element: 2 cur subset: [1, 1] counter: {1: 0, 2: 1}\n",
      "current element: 1 cur subset: [1] counter: {1: 1, 2: 1}\n",
      "current element: 2 cur subset: [1, 2] counter: {1: 1, 2: 1}\n",
      "current element: 1 cur subset: [1, 2, 1] counter: {1: 1, 2: 0}\n",
      "current element: 1 cur subset: [1, 2] counter: {1: 1, 2: 0}\n",
      "current element: 2 cur subset: [1] counter: {1: 1, 2: 1}\n",
      "current element: 1 cur subset: [] counter: {1: 2, 2: 1}\n",
      "current element: 2 cur subset: [2] counter: {1: 2, 2: 1}\n",
      "current element: 1 cur subset: [2, 1] counter: {1: 2, 2: 0}\n",
      "current element: 1 cur subset: [2, 1, 1] counter: {1: 1, 2: 0}\n",
      "current element: 1 cur subset: [2, 1] counter: {1: 1, 2: 0}\n",
      "current element: 1 cur subset: [2] counter: {1: 2, 2: 0}\n",
      "current element: 2 cur subset: [] counter: {1: 2, 2: 1}\n"
     ]
    },
    {
     "data": {
      "text/plain": [
       "[[1, 1, 2], [1, 2, 1], [2, 1, 1]]"
      ]
     },
     "execution_count": 30,
     "metadata": {},
     "output_type": "execute_result"
    }
   ],
   "source": [
    "Solution().permuteUnique([1,2,1])"
   ]
  },
  {
   "cell_type": "markdown",
   "id": "eb95aacb",
   "metadata": {},
   "source": [
    "### Approach2"
   ]
  },
  {
   "cell_type": "code",
   "execution_count": 15,
   "id": "5f890bb4",
   "metadata": {},
   "outputs": [],
   "source": [
    "class Solution:\n",
    "    def permuteUnique(self, nums):\n",
    "        ans=[]\n",
    "        \n",
    "        def dfs(num,scope):\n",
    "            if len(scope)==0:\n",
    "                ans.append(num.copy())\n",
    "                \n",
    "            \n",
    "            visited=set()\n",
    "            for i in range(len(scope)):\n",
    "                if scope[i] not in visited:\n",
    "                    visited.add(scope[i])\n",
    "                    dfs(num+[scope[i]], scope[:i]+scope[i+1:])\n",
    "                    \n",
    "        dfs([],nums)         \n",
    "        return ans"
   ]
  },
  {
   "cell_type": "code",
   "execution_count": null,
   "id": "36a2b3bc",
   "metadata": {},
   "outputs": [],
   "source": []
  }
 ],
 "metadata": {
  "kernelspec": {
   "display_name": "Python 3",
   "language": "python",
   "name": "python3"
  },
  "language_info": {
   "codemirror_mode": {
    "name": "ipython",
    "version": 3
   },
   "file_extension": ".py",
   "mimetype": "text/x-python",
   "name": "python",
   "nbconvert_exporter": "python",
   "pygments_lexer": "ipython3",
   "version": "3.9.5"
  }
 },
 "nbformat": 4,
 "nbformat_minor": 5
}
