{
 "cells": [
  {
   "cell_type": "markdown",
   "id": "d0898b54",
   "metadata": {},
   "source": [
    "# Leetcode - day 13"
   ]
  },
  {
   "attachments": {
    "image.png": {
     "image/png": "[encoded data removed]"
    }
   },
   "cell_type": "markdown",
   "id": "89ab3b5a",
   "metadata": {},
   "source": [
    "## Valid Sudoku\n",
    "\n",
    "Determine if a 9 x 9 Sudoku board is valid. Only the filled cells need to be validated according to the following rules:\n",
    "\n",
    "Each row must contain the digits 1-9 without repetition.\n",
    "Each column must contain the digits 1-9 without repetition.\n",
    "Each of the nine 3 x 3 sub-boxes of the grid must contain the digits 1-9 without repetition.\n",
    "Note:\n",
    "\n",
    "A Sudoku board (partially filled) could be valid but is not necessarily solvable.\n",
    "Only the filled cells need to be validated according to the mentioned rules.\n",
    " \n",
    "\n",
    "Example 1:\n",
    "\n",
    "![image.png](attachment:image.png)\n",
    "\n",
    "Input: board = \n",
    "\n",
    "[[\"5\",\"3\",\".\",\".\",\"7\",\".\",\".\",\".\",\".\"]\n",
    ",[\"6\",\".\",\".\",\"1\",\"9\",\"5\",\".\",\".\",\".\"]\n",
    ",[\".\",\"9\",\"8\",\".\",\".\",\".\",\".\",\"6\",\".\"]\n",
    ",[\"8\",\".\",\".\",\".\",\"6\",\".\",\".\",\".\",\"3\"]\n",
    ",[\"4\",\".\",\".\",\"8\",\".\",\"3\",\".\",\".\",\"1\"]\n",
    ",[\"7\",\".\",\".\",\".\",\"2\",\".\",\".\",\".\",\"6\"]\n",
    ",[\".\",\"6\",\".\",\".\",\".\",\".\",\"2\",\"8\",\".\"]\n",
    ",[\".\",\".\",\".\",\"4\",\"1\",\"9\",\".\",\".\",\"5\"]\n",
    ",[\".\",\".\",\".\",\".\",\"8\",\".\",\".\",\"7\",\"9\"]]\n",
    "\n",
    "\n",
    "Output: true"
   ]
  },
  {
   "cell_type": "markdown",
   "id": "5c317341",
   "metadata": {},
   "source": [
    "## Solution"
   ]
  },
  {
   "cell_type": "code",
   "execution_count": 3,
   "id": "46e7be63",
   "metadata": {},
   "outputs": [],
   "source": [
    "class Solution:\n",
    "    def isValidSudoku(self, board):\n",
    "        # checking for duplicate elements in row\n",
    "        for row in board:\n",
    "            row=[ele for ele in row if ele!=\".\"]\n",
    "            if len(row)!=len(set(row)):\n",
    "                return False\n",
    "            \n",
    "        col_values={}\n",
    "        # check for duplicate values in columns\n",
    "        for i in range(len(board)):\n",
    "            for j in range(len(board)):\n",
    "                if i not in col_values.keys():\n",
    "                    col_values[i]=[]\n",
    "                elif(board[j][i]!='.' and board[j][i] in col_values[i]):\n",
    "                    return False\n",
    "                col_values[i].append(board[j][i])\n",
    "                \n",
    "        box_values={}\n",
    "        # check for duplicate values in the 3*3 boards\n",
    "        for  i in range(3):\n",
    "            for j in range(len(board)):\n",
    "                if (i,int(j/3)) not in box_values.keys():\n",
    "                    box_values[(i,int(j/3))]=[]\n",
    "                box_values[(i,int(j/3))].extend(board[j][i*3:i*3+3])\n",
    "                row=[ele for ele in box_values[(i,int(j/3))] if ele!=\".\"]\n",
    "                if len(row)!=len(set(row)):\n",
    "                    return False           \n",
    "        return True"
   ]
  },
  {
   "cell_type": "code",
   "execution_count": 4,
   "id": "6a16ef6d",
   "metadata": {},
   "outputs": [
    {
     "data": {
      "text/plain": [
       "True"
      ]
     },
     "execution_count": 4,
     "metadata": {},
     "output_type": "execute_result"
    }
   ],
   "source": [
    "Solution().isValidSudoku([[\"5\",\"3\",\".\",\".\",\"7\",\".\",\".\",\".\",\".\"],[\"6\",\".\",\".\",\"1\",\"9\",\"5\",\".\",\".\",\".\"],[\".\",\"9\",\"8\",\".\",\".\",\".\",\".\",\"6\",\".\"],[\"8\",\".\",\".\",\".\",\"6\",\".\",\".\",\".\",\"3\"],[\"4\",\".\",\".\",\"8\",\".\",\"3\",\".\",\".\",\"1\"],[\"7\",\".\",\".\",\".\",\"2\",\".\",\".\",\".\",\"6\"],[\".\",\"6\",\".\",\".\",\".\",\".\",\"2\",\"8\",\".\"],[\".\",\".\",\".\",\"4\",\"1\",\"9\",\".\",\".\",\"5\"],[\".\",\".\",\".\",\".\",\"8\",\".\",\".\",\"7\",\"9\"]])"
   ]
  }
 ],
 "metadata": {
  "kernelspec": {
   "display_name": "Python 3",
   "language": "python",
   "name": "python3"
  },
  "language_info": {
   "codemirror_mode": {
    "name": "ipython",
    "version": 3
   },
   "file_extension": ".py",
   "mimetype": "text/x-python",
   "name": "python",
   "nbconvert_exporter": "python",
   "pygments_lexer": "ipython3",
   "version": "3.9.5"
  }
 },
 "nbformat": 4,
 "nbformat_minor": 5
}
