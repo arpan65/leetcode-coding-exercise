{
 "cells": [
  {
   "cell_type": "markdown",
   "id": "615d3aa0",
   "metadata": {},
   "source": [
    "# Longest Increasing Subsequence\n",
    "\n",
    "Given an integer array nums, return the length of the longest strictly increasing subsequence.\n",
    "\n",
    "A subsequence is a sequence that can be derived from an array by deleting some or no elements without changing the order of the remaining elements. For example, [3,6,2,7] is a subsequence of the array [0,3,1,6,2,2,7].\n",
    "\n",
    " \n",
    "\n",
    "Example 1:\n",
    "\n",
    "Input: nums = [10,9,2,5,3,7,101,18]\n",
    "Output: 4\n",
    "Explanation: The longest increasing subsequence is [2,3,7,101], therefore the length is 4.\n",
    "\n",
    "\n",
    "Example 2:\n",
    "\n",
    "Input: nums = [0,1,0,3,2,3]\n",
    "Output: 4\n",
    "\n",
    "Example 3:\n",
    "\n",
    "Input: nums = [7,7,7,7,7,7,7]\n",
    "Output: 1"
   ]
  },
  {
   "cell_type": "markdown",
   "id": "96647e80",
   "metadata": {},
   "source": [
    "https://leetcode.com/problems/longest-increasing-subsequence/"
   ]
  },
  {
   "cell_type": "markdown",
   "id": "e0452ffd",
   "metadata": {},
   "source": [
    "## Dynamic Programming Solution"
   ]
  },
  {
   "cell_type": "code",
   "execution_count": 1,
   "id": "dad5cc63",
   "metadata": {},
   "outputs": [],
   "source": [
    "class Solution:\n",
    "    def lengthOfLIS(self, nums):\n",
    "        # initialize a memory to retain the length of largest sequence starting a point\n",
    "        dp=[1]*len(nums)\n",
    "        # for each element from right hand side\n",
    "        for i in range(len(nums)-1,-1,-1):\n",
    "            # for each element of the righthand side of current element\n",
    "            for j in range(i+1,len(nums)):\n",
    "                # if current element is smaller, it can be a potential increasing subsequence\n",
    "                if nums[i]<nums[j]:\n",
    "                    # we can either include the current element or the current legth is already greater\n",
    "                    dp[i]=max(dp[i],1+dp[j])\n",
    "        return max(dp)  "
   ]
  },
  {
   "cell_type": "code",
   "execution_count": 2,
   "id": "4b2d4581",
   "metadata": {},
   "outputs": [
    {
     "data": {
      "text/plain": [
       "4"
      ]
     },
     "execution_count": 2,
     "metadata": {},
     "output_type": "execute_result"
    }
   ],
   "source": [
    "Solution().lengthOfLIS([0,1,0,3,2,3])"
   ]
  },
  {
   "cell_type": "code",
   "execution_count": null,
   "id": "c24abaa1",
   "metadata": {},
   "outputs": [],
   "source": []
  }
 ],
 "metadata": {
  "kernelspec": {
   "display_name": "Python 3",
   "language": "python",
   "name": "python3"
  },
  "language_info": {
   "codemirror_mode": {
    "name": "ipython",
    "version": 3
   },
   "file_extension": ".py",
   "mimetype": "text/x-python",
   "name": "python",
   "nbconvert_exporter": "python",
   "pygments_lexer": "ipython3",
   "version": "3.9.5"
  }
 },
 "nbformat": 4,
 "nbformat_minor": 5
}
