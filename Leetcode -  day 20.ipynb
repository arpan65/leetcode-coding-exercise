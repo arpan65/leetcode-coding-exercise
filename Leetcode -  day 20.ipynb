{
 "cells": [
  {
   "cell_type": "markdown",
   "id": "511c0b42",
   "metadata": {},
   "source": [
    " ## Missing Number\n",
    "\n",
    "Given an array nums containing n distinct numbers in the range [0, n], return the only number in the range that is missing from the array.\n",
    "\n",
    "Follow up: Could you implement a solution using only O(1) extra space complexity and O(n) runtime complexity?\n",
    "\n",
    " \n",
    "\n",
    "Example 1:\n",
    "\n",
    "Input: nums = [3,0,1]\n",
    "Output: 2\n",
    "    \n",
    "Explanation: n = 3 since there are 3 numbers, so all numbers are in the range [0,3]. 2 is the missing number in the range since it does not appear in nums.\n",
    "\n",
    "\n",
    "Example 2:\n",
    "\n",
    "Input: nums = [0,1]\n",
    "Output: 2\n",
    "Explanation: n = 2 since there are 2 numbers, so all numbers are in the range [0,2]. 2 is the missing number in the range since it does not appear in nums."
   ]
  },
  {
   "cell_type": "markdown",
   "id": "7c5854f6",
   "metadata": {},
   "source": [
    "## Solution Notes:\n",
    "\n",
    "Numbers will range between 0 to n, so loop through the array for each element, check if the value at arrya[abs(element)] is positive, if so make it negative to mark that the element at that position exists.\n",
    "\n",
    "Important: how the zero is handled"
   ]
  },
  {
   "cell_type": "code",
   "execution_count": 1,
   "id": "24f79f5b",
   "metadata": {},
   "outputs": [],
   "source": [
    "class Solution:\n",
    "    def missingNumber(self, nums):\n",
    "        for i in range(len(nums)):\n",
    "            if(nums[i]==0):\n",
    "                nums[i]=len(nums)+1\n",
    "        for i in range(len(nums)):\n",
    "            if abs(nums[i])== len(nums)+1:\n",
    "                nums[0]=-1       \n",
    "            elif (abs(nums[i])<len(nums) and nums[abs(nums[i])]>0 ):\n",
    "                nums[abs(nums[i])]=-1*nums[abs(nums[i])]      \n",
    "        for i in range(len(nums)):\n",
    "            if(nums[i]>0):\n",
    "                return i\n",
    "        return len(nums)   "
   ]
  },
  {
   "cell_type": "code",
   "execution_count": 2,
   "id": "58af90dc",
   "metadata": {},
   "outputs": [
    {
     "data": {
      "text/plain": [
       "1"
      ]
     },
     "execution_count": 2,
     "metadata": {},
     "output_type": "execute_result"
    }
   ],
   "source": [
    "Solution().missingNumber([0,2])"
   ]
  },
  {
   "cell_type": "markdown",
   "id": "6a44ad29",
   "metadata": {},
   "source": [
    "## Find All Numbers Disappeared in an Array\n",
    "\n",
    "Share\n",
    "Given an array nums of n integers where nums[i] is in the range [1, n], return an array of all the integers in the range [1, n] that do not appear in nums.\n",
    "\n",
    " \n",
    "\n",
    "Example 1:\n",
    "\n",
    "Input: nums = [4,3,2,7,8,2,3,1]\n",
    "Output: [5,6]\n",
    "    \n",
    "    \n",
    "Example 2:\n",
    "\n",
    "Input: nums = [1,1]\n",
    "Output: [2]"
   ]
  },
  {
   "cell_type": "code",
   "execution_count": 1,
   "id": "83803192",
   "metadata": {},
   "outputs": [],
   "source": [
    "class Solution:\n",
    "    def findDisappearedNumbers(self, nums):\n",
    "        res=[]\n",
    "        for i in range(len(nums)):\n",
    "            if (abs(nums[i])-1)<len(nums) and nums[abs(nums[i])-1]>0:\n",
    "                nums[abs(nums[i])-1]=-1*nums[abs(nums[i])-1]       \n",
    "        for i in range(1,len(nums)+1):\n",
    "            if(nums[i-1]>0):\n",
    "                res.append(i)\n",
    "        return res        "
   ]
  },
  {
   "cell_type": "code",
   "execution_count": 2,
   "id": "b8670871",
   "metadata": {},
   "outputs": [
    {
     "data": {
      "text/plain": [
       "[5, 6]"
      ]
     },
     "execution_count": 2,
     "metadata": {},
     "output_type": "execute_result"
    }
   ],
   "source": [
    "Solution().findDisappearedNumbers([4,3,2,7,8,2,3,1])"
   ]
  },
  {
   "cell_type": "code",
   "execution_count": null,
   "id": "7c2504f0",
   "metadata": {},
   "outputs": [],
   "source": []
  }
 ],
 "metadata": {
  "kernelspec": {
   "display_name": "Python 3",
   "language": "python",
   "name": "python3"
  },
  "language_info": {
   "codemirror_mode": {
    "name": "ipython",
    "version": 3
   },
   "file_extension": ".py",
   "mimetype": "text/x-python",
   "name": "python",
   "nbconvert_exporter": "python",
   "pygments_lexer": "ipython3",
   "version": "3.9.5"
  }
 },
 "nbformat": 4,
 "nbformat_minor": 5
}
