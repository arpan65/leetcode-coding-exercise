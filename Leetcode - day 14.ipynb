{
 "cells": [
  {
   "cell_type": "markdown",
   "id": "84d7ef1b",
   "metadata": {},
   "source": [
    "# Leetcode - day 14"
   ]
  },
  {
   "cell_type": "markdown",
   "id": "e1d64ca3",
   "metadata": {},
   "source": [
    "## Longest Substring Without Repeating Characters\n",
    "\n",
    "Given a string s, find the length of the longest substring without repeating characters.\n",
    "\n",
    " \n",
    "\n",
    "Example 1:\n",
    "\n",
    "Input: s = \"abcabcbb\"\n",
    "Output: 3\n",
    "Explanation: The answer is \"abc\", with the length of 3.\n",
    "\n",
    "\n",
    "Example 2:\n",
    "\n",
    "Input: s = \"bbbbb\"\n",
    "Output: 1\n",
    "Explanation: The answer is \"b\", with the length of 1.\n",
    "\n",
    "\n",
    "Example 3:\n",
    "\n",
    "Input: s = \"pwwkew\"\n",
    "\n",
    "\n",
    "Output: 3\n",
    "Explanation: The answer is \"wke\", with the length of 3.\n",
    "Notice that the answer must be a substring, \"pwke\" is a subsequence and not a substring."
   ]
  },
  {
   "cell_type": "markdown",
   "id": "719e5ace",
   "metadata": {},
   "source": [
    "### Solution: Naive Approach"
   ]
  },
  {
   "cell_type": "code",
   "execution_count": 18,
   "id": "c080b90c",
   "metadata": {},
   "outputs": [],
   "source": [
    "class Solution:\n",
    "    def lengthOfLongestSubstring(self, s):\n",
    "        substr=[]\n",
    "        for i in range(len(s)):\n",
    "            substr.extend(s[i:i+j] for j in range(len(s)-i+1))\n",
    "        longest_len=0\n",
    "        for ele in set(substr):\n",
    "            if(len(set(ele))==len(ele) and len(ele)>longest_len):\n",
    "                longest_len=len(ele)\n",
    "        return longest_len        "
   ]
  },
  {
   "cell_type": "markdown",
   "id": "7866bc40",
   "metadata": {},
   "source": [
    "Time Complexity: O(n^2)"
   ]
  },
  {
   "cell_type": "code",
   "execution_count": 19,
   "id": "551d75e1",
   "metadata": {},
   "outputs": [
    {
     "data": {
      "text/plain": [
       "3"
      ]
     },
     "execution_count": 19,
     "metadata": {},
     "output_type": "execute_result"
    }
   ],
   "source": [
    "s=\"abcabcbb\"\n",
    "Solution().lengthOfLongestSubstring(s)"
   ]
  },
  {
   "cell_type": "markdown",
   "id": "b6027d6d",
   "metadata": {},
   "source": [
    "### Solution: Optimized using HashMap"
   ]
  },
  {
   "cell_type": "code",
   "execution_count": 23,
   "id": "103c44ba",
   "metadata": {},
   "outputs": [],
   "source": [
    "class Solution:\n",
    "    def lengthOfLongestSubstring(self, s):\n",
    "        # create a dict that will contain the index where a particular element has seen last\n",
    "        index_dict={}\n",
    "        # initialize two pointerr l and r\n",
    "        l=r=0\n",
    "        longest=0\n",
    "        # while right pointer is withing the range\n",
    "        while r<len(s):\n",
    "            # if the emenent is already present in the dict, and the last visited index is within l and r\n",
    "            # then move l to the right of where the repeated element was last seen\n",
    "            # otherwise keep the current value of l\n",
    "            if(s[r] in index_dict.keys()):\n",
    "                    l=max(l,index_dict[s[r]]+1)\n",
    "            # update the latest index of the current element        \n",
    "            index_dict[s[r]]=r       \n",
    "            # update the length if applicable\n",
    "            longest=max(longest,r-l+1)\n",
    "            print('substr:',s[l:r+1],'l,r:',l,r,'longest:',longest,'freqdict:',index_dict)\n",
    "            # move right\n",
    "            r+=1               \n",
    "        return longest        "
   ]
  },
  {
   "cell_type": "code",
   "execution_count": 24,
   "id": "7f415816",
   "metadata": {},
   "outputs": [
    {
     "name": "stdout",
     "output_type": "stream",
     "text": [
      "substr: b l,r: 0 0 longest: 1 freqdict: {'b': 0}\n",
      "substr: b l,r: 1 1 longest: 1 freqdict: {'b': 1}\n",
      "substr: b l,r: 2 2 longest: 1 freqdict: {'b': 2}\n",
      "substr: b l,r: 3 3 longest: 1 freqdict: {'b': 3}\n"
     ]
    },
    {
     "data": {
      "text/plain": [
       "1"
      ]
     },
     "execution_count": 24,
     "metadata": {},
     "output_type": "execute_result"
    }
   ],
   "source": [
    "s=\"bbbb\"\n",
    "Solution().lengthOfLongestSubstring(s)"
   ]
  },
  {
   "cell_type": "code",
   "execution_count": 25,
   "id": "233f8488",
   "metadata": {},
   "outputs": [
    {
     "name": "stdout",
     "output_type": "stream",
     "text": [
      "substr: a l,r: 0 0 longest: 1 freqdict: {'a': 0}\n",
      "substr: ab l,r: 0 1 longest: 2 freqdict: {'a': 0, 'b': 1}\n",
      "substr: abc l,r: 0 2 longest: 3 freqdict: {'a': 0, 'b': 1, 'c': 2}\n",
      "substr: bca l,r: 1 3 longest: 3 freqdict: {'a': 3, 'b': 1, 'c': 2}\n",
      "substr: cab l,r: 2 4 longest: 3 freqdict: {'a': 3, 'b': 4, 'c': 2}\n",
      "substr: abc l,r: 3 5 longest: 3 freqdict: {'a': 3, 'b': 4, 'c': 5}\n",
      "substr: cb l,r: 5 6 longest: 3 freqdict: {'a': 3, 'b': 6, 'c': 5}\n",
      "substr: b l,r: 7 7 longest: 3 freqdict: {'a': 3, 'b': 7, 'c': 5}\n"
     ]
    },
    {
     "data": {
      "text/plain": [
       "3"
      ]
     },
     "execution_count": 25,
     "metadata": {},
     "output_type": "execute_result"
    }
   ],
   "source": [
    "s=\"abcabcbb\"\n",
    "Solution().lengthOfLongestSubstring(s)"
   ]
  },
  {
   "cell_type": "markdown",
   "id": "2888fc5b",
   "metadata": {},
   "source": [
    "Time Complexity: O(n)"
   ]
  },
  {
   "cell_type": "code",
   "execution_count": null,
   "id": "713fa758",
   "metadata": {},
   "outputs": [],
   "source": []
  }
 ],
 "metadata": {
  "kernelspec": {
   "display_name": "Python 3",
   "language": "python",
   "name": "python3"
  },
  "language_info": {
   "codemirror_mode": {
    "name": "ipython",
    "version": 3
   },
   "file_extension": ".py",
   "mimetype": "text/x-python",
   "name": "python",
   "nbconvert_exporter": "python",
   "pygments_lexer": "ipython3",
   "version": "3.9.5"
  }
 },
 "nbformat": 4,
 "nbformat_minor": 5
}
