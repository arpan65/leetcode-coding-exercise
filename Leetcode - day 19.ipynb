{
 "cells": [
  {
   "cell_type": "markdown",
   "id": "a898a5d1",
   "metadata": {},
   "source": [
    "## Maximum Subarray\n",
    "\n",
    "Given an integer array nums, find the contiguous subarray (containing at least one number) which has the largest sum and return its sum.\n",
    "\n",
    "A subarray is a contiguous part of an array.\n",
    "\n",
    " \n",
    "\n",
    "Example 1:\n",
    "\n",
    "Input: nums = [-2,1,-3,4,-1,2,1,-5,4]\n",
    "Output: 6\n",
    "Explanation: [4,-1,2,1] has the largest sum = 6.\n",
    "\n",
    "\n",
    "Example 2:\n",
    "\n",
    "Input: nums = [1]\n",
    "Output: 1\n",
    "Example 3:\n",
    "\n",
    "Input: nums = [5,4,-1,7,8]\n",
    "Output: 23"
   ]
  },
  {
   "cell_type": "code",
   "execution_count": 1,
   "id": "957320a3",
   "metadata": {},
   "outputs": [],
   "source": [
    "nums = [-2,1,-3,4,-1,2,1,-5,4]"
   ]
  },
  {
   "cell_type": "code",
   "execution_count": 2,
   "id": "748f4d90",
   "metadata": {},
   "outputs": [],
   "source": [
    "class Solution:\n",
    "    def maxSubArray(self, nums):\n",
    "        curSum=0\n",
    "        maxSum=nums[0]\n",
    "        for  ele in nums:\n",
    "            if(curSum<0):\n",
    "                curSum=0\n",
    "            curSum+=ele    \n",
    "            maxSum=max(curSum,maxSum)\n",
    "        return maxSum   \n",
    "        "
   ]
  },
  {
   "cell_type": "code",
   "execution_count": 3,
   "id": "ddc0a38e",
   "metadata": {},
   "outputs": [
    {
     "data": {
      "text/plain": [
       "6"
      ]
     },
     "execution_count": 3,
     "metadata": {},
     "output_type": "execute_result"
    }
   ],
   "source": [
    "Solution().maxSubArray(nums)"
   ]
  },
  {
   "cell_type": "markdown",
   "id": "595d4235",
   "metadata": {},
   "source": [
    "## Single Number\n",
    "\n",
    "Given a non-empty array of integers nums, every element appears twice except for one. Find that single one.\n",
    "\n",
    "You must implement a solution with a linear runtime complexity and use only constant extra space.\n",
    "\n",
    " \n",
    "\n",
    "Example 1:\n",
    "\n",
    "Input: nums = [2,2,1]\n",
    "Output: 1\n",
    "\n",
    "\n",
    "Example 2:\n",
    "\n",
    "Input: nums = [4,1,2,1,2]\n",
    "Output: 4\n",
    "Example 3:\n",
    "\n",
    "Input: nums = [1]\n",
    "Output: 1"
   ]
  },
  {
   "cell_type": "code",
   "execution_count": 5,
   "id": "2b51b5a8",
   "metadata": {},
   "outputs": [],
   "source": [
    "class Solution:\n",
    "    def singleNumber(self, nums):\n",
    "        freq={}\n",
    "        for ele in nums:\n",
    "            if ele in freq:\n",
    "                freq[ele]+=1\n",
    "            else:\n",
    "                freq[ele]=1\n",
    "        for k in freq:\n",
    "            if freq[k]==1:\n",
    "                return k"
   ]
  },
  {
   "cell_type": "code",
   "execution_count": 6,
   "id": "fe0e5e88",
   "metadata": {},
   "outputs": [
    {
     "data": {
      "text/plain": [
       "4"
      ]
     },
     "execution_count": 6,
     "metadata": {},
     "output_type": "execute_result"
    }
   ],
   "source": [
    "Solution().singleNumber([4,1,2,1,2])"
   ]
  },
  {
   "cell_type": "markdown",
   "id": "d78de7c6",
   "metadata": {},
   "source": [
    "## Majority Element\n",
    "\n",
    "Given an array nums of size n, return the majority element.\n",
    "\n",
    "The majority element is the element that appears more than ⌊n / 2⌋ times. You may assume that the majority element always exists in the array.\n",
    "\n",
    " \n",
    "\n",
    "Example 1:\n",
    "\n",
    "Input: nums = [3,2,3]\n",
    "Output: 3\n",
    "    \n",
    "    \n",
    "Example 2:\n",
    "\n",
    "Input: nums = [2,2,1,1,1,2,2]\n",
    "Output: 2"
   ]
  },
  {
   "cell_type": "code",
   "execution_count": 7,
   "id": "4f442599",
   "metadata": {},
   "outputs": [],
   "source": [
    "class Solution:\n",
    "    def majorityElement(self, nums):\n",
    "        freq={}\n",
    "        for ele in nums:\n",
    "            if ele in freq:\n",
    "                freq[ele]+=1\n",
    "            else:\n",
    "                freq[ele]=1\n",
    "        for ele in freq:\n",
    "            if freq[ele]>int(len(nums)/2):\n",
    "                return ele\n",
    "        "
   ]
  },
  {
   "cell_type": "code",
   "execution_count": 8,
   "id": "f3ca68bc",
   "metadata": {},
   "outputs": [
    {
     "data": {
      "text/plain": [
       "2"
      ]
     },
     "execution_count": 8,
     "metadata": {},
     "output_type": "execute_result"
    }
   ],
   "source": [
    "Solution().majorityElement([2,2,1,1,1,2,2])"
   ]
  },
  {
   "cell_type": "markdown",
   "id": "a9165a83",
   "metadata": {},
   "source": [
    "## 3Sum\n",
    "\n",
    "Given an integer array nums, return all the triplets [nums[i], nums[j], nums[k]] such that i != j, i != k, and j != k, and nums[i] + nums[j] + nums[k] == 0.\n",
    "\n",
    "Notice that the solution set must not contain duplicate triplets.\n",
    "\n",
    " \n",
    "\n",
    "Example 1:\n",
    "\n",
    "Input: nums = [-1,0,1,2,-1,-4]\n",
    "Output: [[-1,-1,2],[-1,0,1]]\n",
    "    \n",
    "    \n",
    "Example 2:\n",
    "\n",
    "Input: nums = []\n",
    "Output: []\n",
    "    \n",
    "    \n",
    "Example 3:\n",
    "\n",
    "Input: nums = [0]\n",
    "Output: []"
   ]
  },
  {
   "cell_type": "markdown",
   "id": "5e8f70b8",
   "metadata": {},
   "source": [
    "### Three Pointer Approach"
   ]
  },
  {
   "cell_type": "code",
   "execution_count": 9,
   "id": "f52397d7",
   "metadata": {},
   "outputs": [],
   "source": [
    "class Solution(object):\n",
    "    def threeSum(self, nums):\n",
    "        \"\"\"\n",
    "        :type nums: List[int]\n",
    "        :rtype: List[List[int]]\n",
    "        \"\"\"\n",
    "        sols=[]\n",
    "        # O(n log n)\n",
    "        nums.sort()\n",
    "        for i in range(len(nums)):\n",
    "            if(i>0 and nums[i]==nums[i-1]):\n",
    "                continue\n",
    "            l=i+1\n",
    "            r=len(nums)-1\n",
    "            while l<r:\n",
    "                three_sum=nums[i]+nums[l]+nums[r]\n",
    "                if(three_sum>0):\n",
    "                    r-=1\n",
    "                elif(three_sum<0):\n",
    "                    l+=1\n",
    "                else:\n",
    "                    sols.append([nums[l],nums[i],nums[r]])\n",
    "                    l+=1\n",
    "                    while nums[l]==nums[l-1] and l<r:\n",
    "                        l+=1          \n",
    "        return sols              \n",
    "                    "
   ]
  },
  {
   "cell_type": "markdown",
   "id": "7510bbcb",
   "metadata": {},
   "source": [
    "### Generalized K Sum"
   ]
  },
  {
   "cell_type": "code",
   "execution_count": null,
   "id": "ce8ac210",
   "metadata": {},
   "outputs": [],
   "source": [
    "class Solution:\n",
    "    def threeSum(self, nums: List[int]) -> List[List[int]]:\n",
    "        res=[]\n",
    "        def kSum(nums,k,target):\n",
    "            if len(nums)==0:\n",
    "                return []\n",
    "            elif(k==2):\n",
    "                return twoSum(nums,target)\n",
    "            else:\n",
    "                for i in range(len(nums)):\n",
    "                    if(i==0 or nums[i-1]!=nums[i]):\n",
    "                        subs=kSum(nums[i+1::],k-1,target-nums[i])\n",
    "                        for ele in subs:\n",
    "                            res.append(ele+[nums[i]])\n",
    "            return res\n",
    "        \n",
    "        def twoSum(nums,target):\n",
    "            res=[]\n",
    "            l=0\n",
    "            r=len(nums)-1\n",
    "            while l<r:\n",
    "                curSum=nums[l]+nums[r]\n",
    "                if (curSum<target) or (l>0 and nums[l-1]==nums[l]):\n",
    "                    l+=1\n",
    "                elif(curSum==target):\n",
    "                    res.append([nums[l],nums[r]])\n",
    "                    l+=1    \n",
    "                else:\n",
    "                    r-=1           \n",
    "            return res         \n",
    "        nums.sort()\n",
    "        return kSum(nums,3,0)"
   ]
  }
 ],
 "metadata": {
  "kernelspec": {
   "display_name": "Python 3",
   "language": "python",
   "name": "python3"
  },
  "language_info": {
   "codemirror_mode": {
    "name": "ipython",
    "version": 3
   },
   "file_extension": ".py",
   "mimetype": "text/x-python",
   "name": "python",
   "nbconvert_exporter": "python",
   "pygments_lexer": "ipython3",
   "version": "3.9.5"
  }
 },
 "nbformat": 4,
 "nbformat_minor": 5
}
