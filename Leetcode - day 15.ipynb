{
 "cells": [
  {
   "cell_type": "markdown",
   "id": "4c11ae1f",
   "metadata": {},
   "source": [
    "# Leetcode - day 15"
   ]
  },
  {
   "cell_type": "markdown",
   "id": "7bc2e705",
   "metadata": {},
   "source": [
    "## Median of Two Sorted Arrays\n",
    "\n",
    "\n",
    "Given two sorted arrays nums1 and nums2 of size m and n respectively, return the median of the two sorted arrays.\n",
    "\n",
    "The overall run time complexity should be O(log (m+n)).\n",
    "\n",
    " \n",
    "\n",
    "Example 1:\n",
    "\n",
    "Input: nums1 = [1,3], nums2 = [2]\n",
    "Output: 2.00000\n",
    "Explanation: merged array = [1,2,3] and median is 2.\n",
    "\n",
    "\n",
    "Example 2:\n",
    "\n",
    "Input: nums1 = [1,2], nums2 = [3,4]\n",
    "Output: 2.50000\n",
    "Explanation: merged array = [1,2,3,4] and median is (2 + 3) / 2 = 2.5."
   ]
  },
  {
   "cell_type": "markdown",
   "id": "ad14759f",
   "metadata": {},
   "source": [
    "## Solution:"
   ]
  },
  {
   "cell_type": "code",
   "execution_count": 1,
   "id": "77fe46c7",
   "metadata": {},
   "outputs": [],
   "source": [
    "# solution using the concept of merge operation of merge sort\n",
    "class Solution:\n",
    "    def findMedianSortedArrays(self, nums1,nums2):\n",
    "        nums_merged=[]\n",
    "        l=r=0\n",
    "        while (l<len(nums1)) and (r<len(nums2)):\n",
    "            if(nums1[l]<=nums2[r]):\n",
    "                nums_merged.append(nums1[l])\n",
    "                l+=1\n",
    "            else:\n",
    "                nums_merged.append(nums2[r])\n",
    "                r+=1\n",
    "        if(l<len(nums1)):\n",
    "            nums_merged.extend(nums1[l::])\n",
    "        if(r<len(nums2)):\n",
    "            nums_merged.extend(nums2[r::])   \n",
    "        if(len(nums_merged)%2==0):\n",
    "            return (nums_merged[int(len(nums_merged)/2)]+nums_merged[int(len(nums_merged)/2)-1])/2\n",
    "        return nums_merged[int(len(nums_merged)/2)]\n",
    "        "
   ]
  },
  {
   "cell_type": "code",
   "execution_count": 2,
   "id": "befd57b4",
   "metadata": {},
   "outputs": [
    {
     "data": {
      "text/plain": [
       "2.5"
      ]
     },
     "execution_count": 2,
     "metadata": {},
     "output_type": "execute_result"
    }
   ],
   "source": [
    "Solution().findMedianSortedArrays([1,2,4],[3])"
   ]
  },
  {
   "cell_type": "markdown",
   "id": "6bde8958",
   "metadata": {},
   "source": [
    "## Longest Palindromic Substring\n",
    "\n",
    "Given a string s, return the longest palindromic substring in s.\n",
    "\n",
    " \n",
    "\n",
    "Example 1:\n",
    "\n",
    "Input: s = \"babad\"\n",
    "Output: \"bab\"\n",
    "Note: \"aba\" is also a valid answer.\n",
    "\n",
    "\n",
    "Example 2:\n",
    "\n",
    "Input: s = \"cbbd\"\n",
    "Output: \"bb\"\n",
    "\n",
    "\n",
    "Example 3:\n",
    "\n",
    "Input: s = \"a\"\n",
    "Output: \"a\""
   ]
  },
  {
   "cell_type": "code",
   "execution_count": 5,
   "id": "6c3a775f",
   "metadata": {},
   "outputs": [],
   "source": [
    "class Solution:\n",
    "    def longestPalindrome(self, s):\n",
    "        # method to evaluate the length of substring from middle\n",
    "        def expandFromMiddle(s,l,r):\n",
    "            if(len(s)==0):\n",
    "                return 0\n",
    "            while((l>=0 and r<len(s)) and (s[l]==s[r])):\n",
    "                r+=1\n",
    "                l-=1\n",
    "            return r-l-1\n",
    "        start=0\n",
    "        end=0\n",
    "        # edge case - return null for blank input\n",
    "        if(len(s)==0):\n",
    "            return \"\"\n",
    "        # for each index\n",
    "        for i in range(len(s)):\n",
    "            # case1: for string like \"aba\" the centre will be \"b\",\n",
    "            len1=expandFromMiddle(s,i,i)\n",
    "            # case2: for string like \"abba\" the centre will be \"bb\"\n",
    "            len2=expandFromMiddle(s,i,i+1)\n",
    "            max_len=max(len1,len2)\n",
    "            # boundaries for the maximum legth palindrome substring\n",
    "            if (max_len>end-start):\n",
    "                start=i-int((max_len-1)/2)\n",
    "                end=i+int(max_len/2)+1   \n",
    "                print(max_len,s[start:end])\n",
    "        return s[start:end]        \n",
    "            \n",
    "        "
   ]
  },
  {
   "cell_type": "code",
   "execution_count": 6,
   "id": "904eb303",
   "metadata": {},
   "outputs": [
    {
     "name": "stdout",
     "output_type": "stream",
     "text": [
      "1 b\n",
      "3 bab\n"
     ]
    },
    {
     "data": {
      "text/plain": [
       "'bab'"
      ]
     },
     "execution_count": 6,
     "metadata": {},
     "output_type": "execute_result"
    }
   ],
   "source": [
    "Solution().longestPalindrome(\"babad\")"
   ]
  },
  {
   "cell_type": "markdown",
   "id": "7c909d1e",
   "metadata": {},
   "source": [
    "## Complexity Analysis\n",
    "\n",
    "Time complexity : O(n^2) Since expanding a palindrome around its center could take O(n)O(n) time, the overall complexity is O(n^2)\n",
    "\n",
    "Space complexity : O(1)."
   ]
  }
 ],
 "metadata": {
  "kernelspec": {
   "display_name": "Python 3",
   "language": "python",
   "name": "python3"
  },
  "language_info": {
   "codemirror_mode": {
    "name": "ipython",
    "version": 3
   },
   "file_extension": ".py",
   "mimetype": "text/x-python",
   "name": "python",
   "nbconvert_exporter": "python",
   "pygments_lexer": "ipython3",
   "version": "3.9.5"
  }
 },
 "nbformat": 4,
 "nbformat_minor": 5
}
