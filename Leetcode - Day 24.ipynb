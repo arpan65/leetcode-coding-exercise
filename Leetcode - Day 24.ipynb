{
 "cells": [
  {
   "cell_type": "markdown",
   "id": "75b8f115",
   "metadata": {},
   "source": [
    "# House Robber\n",
    "\n",
    "You are a professional robber planning to rob houses along a street. Each house has a certain amount of money stashed, the only constraint stopping you from robbing each of them is that adjacent houses have security systems connected and it will automatically contact the police if two adjacent houses were broken into on the same night.\n",
    "\n",
    "Given an integer array nums representing the amount of money of each house, return the maximum amount of money you can rob tonight without alerting the police.\n",
    "\n",
    " \n",
    "\n",
    "Example 1:\n",
    "\n",
    "Input: nums = [1,2,3,1]\n",
    "Output: 4\n",
    "Explanation: Rob house 1 (money = 1) and then rob house 3 (money = 3).\n",
    "Total amount you can rob = 1 + 3 = 4.\n",
    "\n",
    "\n",
    "Example 2:\n",
    "\n",
    "Input: nums = [2,7,9,3,1]\n",
    "Output: 12\n",
    "Explanation: Rob house 1 (money = 2), rob house 3 (money = 9) and rob house 5 (money = 1).\n",
    "Total amount you can rob = 2 + 9 + 1 = 12."
   ]
  },
  {
   "cell_type": "markdown",
   "id": "99369c7e",
   "metadata": {},
   "source": [
    "## Approach1: Recursion with memoization"
   ]
  },
  {
   "cell_type": "code",
   "execution_count": 3,
   "id": "9e6e8b9a",
   "metadata": {},
   "outputs": [],
   "source": [
    "class Solution:\n",
    "    def rob(self, nums):\n",
    "        memory={}\n",
    "        def maxMoney(cur,nums):\n",
    "            if (cur,str(nums)) in memory:\n",
    "                return memory[(cur,str(nums))]\n",
    "            if len(nums)==0:\n",
    "                return cur\n",
    "            elif len(nums)==1:\n",
    "                return cur+nums[0]\n",
    "            else:\n",
    "                memory[(cur,str(nums))]= max(maxMoney(cur+nums[0],nums[2::]),maxMoney(cur,nums[1::]))\n",
    "                return memory[(cur,str(nums))]\n",
    "        return maxMoney(0,nums)    \n",
    "                "
   ]
  },
  {
   "cell_type": "code",
   "execution_count": 6,
   "id": "048c4ccb",
   "metadata": {},
   "outputs": [
    {
     "data": {
      "text/plain": [
       "3365"
      ]
     },
     "execution_count": 6,
     "metadata": {},
     "output_type": "execute_result"
    }
   ],
   "source": [
    "Solution().rob([183,219,57,193,94,233,202,154,65,240,97,234,100,249,186,66,90,238,168,128,177,235,50,81,185,165,217,207,88,80,112,78,135,62,228,247,211])"
   ]
  },
  {
   "cell_type": "markdown",
   "id": "3efaa2b1",
   "metadata": {},
   "source": [
    "## Approach2 (Optimized): Dynamic Programming"
   ]
  },
  {
   "cell_type": "code",
   "execution_count": 7,
   "id": "77270f95",
   "metadata": {},
   "outputs": [],
   "source": [
    "class Solution:\n",
    "    def rob(self, nums):\n",
    "        # initialize h1 and h2\n",
    "        h1,h2=0,0\n",
    "        # lets the array be like this\n",
    "        #[h1,h2,ele,ele+1,ele+2..ele+n]\n",
    "        for ele in nums:\n",
    "            # there are two options: either choose cur value + value before cur previous\n",
    "            # or choose upto the previous element skipping the current one\n",
    "            curMax=max(ele+h1,h2)\n",
    "            # move h1 and h2\n",
    "            h1=h2\n",
    "            h2=curMax\n",
    "        return h2    "
   ]
  },
  {
   "cell_type": "code",
   "execution_count": 8,
   "id": "43cb6d26",
   "metadata": {},
   "outputs": [
    {
     "data": {
      "text/plain": [
       "3365"
      ]
     },
     "execution_count": 8,
     "metadata": {},
     "output_type": "execute_result"
    }
   ],
   "source": [
    "Solution().rob([183,219,57,193,94,233,202,154,65,240,97,234,100,249,186,66,90,238,168,128,177,235,50,81,185,165,217,207,88,80,112,78,135,62,228,247,211])"
   ]
  }
 ],
 "metadata": {
  "kernelspec": {
   "display_name": "Python 3",
   "language": "python",
   "name": "python3"
  },
  "language_info": {
   "codemirror_mode": {
    "name": "ipython",
    "version": 3
   },
   "file_extension": ".py",
   "mimetype": "text/x-python",
   "name": "python",
   "nbconvert_exporter": "python",
   "pygments_lexer": "ipython3",
   "version": "3.9.5"
  }
 },
 "nbformat": 4,
 "nbformat_minor": 5
}
