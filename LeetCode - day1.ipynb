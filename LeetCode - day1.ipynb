{
 "cells": [
  {
   "cell_type": "markdown",
   "id": "74162f2d",
   "metadata": {},
   "source": [
    "## DAY -1 Array two sum Problem"
   ]
  },
  {
   "cell_type": "markdown",
   "id": "a255aa00",
   "metadata": {},
   "source": [
    "<b>Given an array of integers nums and an integer target, return indices of the two numbers such that they add up to target.\n",
    "\n",
    "You may assume that each input would have exactly one solution, and you may not use the same element twice.\n",
    "\n",
    "You can return the answer in any order.</b>"
   ]
  },
  {
   "cell_type": "code",
   "execution_count": 57,
   "id": "aa2cdef7",
   "metadata": {},
   "outputs": [],
   "source": [
    "    def twoSum(nums, target):\n",
    "        \"\"\"\n",
    "        :type nums: List[int]\n",
    "        :type target: int\n",
    "        :rtype: List[int]\n",
    "        \"\"\"\n",
    "        for i in range(len(nums)):\n",
    "            num=nums[i]\n",
    "            other_num=target-num\n",
    "            if other_num in nums[i+1::]:\n",
    "                base=len(nums[0:i+1])\n",
    "                print(base)\n",
    "                if(num!=other_num):\n",
    "                    return [i,nums.index(other_num)]\n",
    "                else:\n",
    "                    return [i,base+nums[i+1::].index(other_num)]"
   ]
  },
  {
   "cell_type": "code",
   "execution_count": 59,
   "id": "fd646923",
   "metadata": {},
   "outputs": [
    {
     "name": "stdout",
     "output_type": "stream",
     "text": [
      "1\n"
     ]
    },
    {
     "data": {
      "text/plain": [
       "[0, 1]"
      ]
     },
     "execution_count": 59,
     "metadata": {},
     "output_type": "execute_result"
    }
   ],
   "source": [
    "twoSum([5,5,11],10)"
   ]
  },
  {
   "cell_type": "markdown",
   "id": "b9777011",
   "metadata": {},
   "source": [
    "####  Given an array of integers numbers that is already sorted in non-decreasing order, find two numbers such that they add up to a specific target number.\n",
    "\n",
    "#### Return the indices of the two numbers (1-indexed) as an integer array answer of size 2, where 1 <= answer[0] < answer[1] <= numbers.length.The tests are generated such that there is exactly one solution. You may not use the same element twice."
   ]
  },
  {
   "cell_type": "code",
   "execution_count": 78,
   "id": "eebb6503",
   "metadata": {},
   "outputs": [],
   "source": [
    "\n",
    "    def twoSum(nums, target):\n",
    "        \"\"\"\n",
    "        :type numbers: List[int]\n",
    "        :type target: int\n",
    "        :rtype: List[int]\n",
    "        \"\"\"\n",
    "        index_dict={}\n",
    "        # O(n)\n",
    "        for i in range(len(nums)):\n",
    "            if (nums[i] not in index_dict.keys()):\n",
    "                index_dict[nums[i]]=[] \n",
    "                index_dict[nums[i]].append(i+1)\n",
    "        for i in range(len(nums)):\n",
    "            other_num=target-nums[i]\n",
    "            if other_num in index_dict.keys():\n",
    "                if(nums[i]==other_num):\n",
    "                    return [i+1,index_dict[other_num][1]]\n",
    "                else:\n",
    "                    return [i+1,index_dict[other_num][0]] \n",
    "                 "
   ]
  },
  {
   "cell_type": "code",
   "execution_count": 79,
   "id": "e2c54f7f",
   "metadata": {},
   "outputs": [
    {
     "data": {
      "text/plain": [
       "[4, 6]"
      ]
     },
     "execution_count": 79,
     "metadata": {},
     "output_type": "execute_result"
    }
   ],
   "source": [
    "twoSum(nums=[0,0,0,3,4,5,5,7], target=8)"
   ]
  }
 ],
 "metadata": {
  "kernelspec": {
   "display_name": "Python 3",
   "language": "python",
   "name": "python3"
  },
  "language_info": {
   "codemirror_mode": {
    "name": "ipython",
    "version": 3
   },
   "file_extension": ".py",
   "mimetype": "text/x-python",
   "name": "python",
   "nbconvert_exporter": "python",
   "pygments_lexer": "ipython3",
   "version": "3.9.5"
  }
 },
 "nbformat": 4,
 "nbformat_minor": 5
}
