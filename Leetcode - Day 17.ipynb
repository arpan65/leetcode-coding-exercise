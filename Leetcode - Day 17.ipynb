{
 "cells": [
  {
   "cell_type": "markdown",
   "id": "055e4e24",
   "metadata": {},
   "source": [
    "## Contains Duplicate\n",
    "\n",
    "Given an integer array nums, return true if any value appears at least twice in the array, and return false if every element is distinct.\n",
    "\n",
    " \n",
    "\n",
    "Example 1:\n",
    "\n",
    "Input: nums = [1,2,3,1]\n",
    "Output: true\n",
    "\n",
    "Example 2:\n",
    "\n",
    "Input: nums = [1,2,3,4]\n",
    "Output: false\n",
    "\n",
    "Example 3:\n",
    "\n",
    "Input: nums = [1,1,1,3,3,4,3,2,4,2]\n",
    "Output: true"
   ]
  },
  {
   "cell_type": "code",
   "execution_count": 18,
   "id": "56dbdf7c",
   "metadata": {},
   "outputs": [],
   "source": [
    "class Solution:\n",
    "    def containsDuplicate(self, nums):\n",
    "        freq={}\n",
    "        for ele in nums:\n",
    "            if ele in freq:\n",
    "                return True\n",
    "            else:\n",
    "                freq[ele]=1\n",
    "        return False    "
   ]
  },
  {
   "cell_type": "code",
   "execution_count": 19,
   "id": "f334e2ac",
   "metadata": {},
   "outputs": [
    {
     "data": {
      "text/plain": [
       "False"
      ]
     },
     "execution_count": 19,
     "metadata": {},
     "output_type": "execute_result"
    }
   ],
   "source": [
    "Solution().containsDuplicate([1,2,3,4])"
   ]
  },
  {
   "cell_type": "markdown",
   "id": "d11a8060",
   "metadata": {},
   "source": [
    "## Best Time to Buy and Sell Stock\n",
    "\n",
    "You are given an array prices where prices[i] is the price of a given stock on the ith day.\n",
    "\n",
    "You want to maximize your profit by choosing a single day to buy one stock and choosing a different day in the future to sell that stock.\n",
    "\n",
    "Return the maximum profit you can achieve from this transaction. If you cannot achieve any profit, return 0.\n",
    "\n",
    " \n",
    "\n",
    "Example 1:\n",
    "\n",
    "Input: prices = [7,1,5,3,6,4]\n",
    "Output: 5\n",
    "Explanation: Buy on day 2 (price = 1) and sell on day 5 (price = 6), profit = 6-1 = 5.\n",
    "Note that buying on day 2 and selling on day 1 is not allowed because you must buy before you sell.\n",
    "\n",
    "\n",
    "Example 2:\n",
    "\n",
    "Input: prices = [7,6,4,3,1]\n",
    "Output: 0\n",
    "Explanation: In this case, no transactions are done and the max profit = 0."
   ]
  },
  {
   "cell_type": "markdown",
   "id": "e36a307a",
   "metadata": {},
   "source": [
    "### O(n^2) Solution"
   ]
  },
  {
   "cell_type": "code",
   "execution_count": 9,
   "id": "9ad53f7b",
   "metadata": {},
   "outputs": [],
   "source": [
    "class Solution(object):\n",
    "    def maxProfit(self, prices):\n",
    "        \"\"\"\n",
    "        :type prices: List[int]\n",
    "        :rtype: int\n",
    "        \"\"\"\n",
    "        def getMax(arr):\n",
    "            if(len(arr)==0):\n",
    "                return -1\n",
    "            cur=arr[0]\n",
    "            for ele in arr:\n",
    "                cur=max(cur,ele)\n",
    "            return cur\n",
    "        curProfit=0\n",
    "        for i in range(len(prices)):\n",
    "            nextMax=getMax(prices[i+1::])\n",
    "            curProfit=max(curProfit,nextMax-prices[i])\n",
    "        return  curProfit "
   ]
  },
  {
   "cell_type": "code",
   "execution_count": 11,
   "id": "d2ad7ed9",
   "metadata": {},
   "outputs": [
    {
     "data": {
      "text/plain": [
       "0"
      ]
     },
     "execution_count": 11,
     "metadata": {},
     "output_type": "execute_result"
    }
   ],
   "source": [
    "Solution().maxProfit([7,6,4,3,1])"
   ]
  },
  {
   "cell_type": "markdown",
   "id": "34b6918c",
   "metadata": {},
   "source": [
    "### O(n) Solution"
   ]
  },
  {
   "cell_type": "code",
   "execution_count": 12,
   "id": "896b9b1e",
   "metadata": {},
   "outputs": [],
   "source": [
    "class Solution(object):\n",
    "    def maxProfit(self, prices):\n",
    "        \"\"\"\n",
    "        :type prices: List[int]\n",
    "        :rtype: int\n",
    "        \"\"\"\n",
    "        buy_day,max_profit=0,0\n",
    "        for i in range(len(prices)):\n",
    "            max_profit=max(max_profit,prices[i]-prices[buy_day])\n",
    "            if (prices[i]<prices[buy_day]):\n",
    "                buy_day=i\n",
    "        return max_profit  "
   ]
  },
  {
   "cell_type": "code",
   "execution_count": 13,
   "id": "4e63575e",
   "metadata": {},
   "outputs": [
    {
     "data": {
      "text/plain": [
       "5"
      ]
     },
     "execution_count": 13,
     "metadata": {},
     "output_type": "execute_result"
    }
   ],
   "source": [
    "Solution().maxProfit([7,1,5,3,6,4])"
   ]
  },
  {
   "cell_type": "code",
   "execution_count": null,
   "id": "d3926a37",
   "metadata": {},
   "outputs": [],
   "source": []
  }
 ],
 "metadata": {
  "kernelspec": {
   "display_name": "Python 3",
   "language": "python",
   "name": "python3"
  },
  "language_info": {
   "codemirror_mode": {
    "name": "ipython",
    "version": 3
   },
   "file_extension": ".py",
   "mimetype": "text/x-python",
   "name": "python",
   "nbconvert_exporter": "python",
   "pygments_lexer": "ipython3",
   "version": "3.9.5"
  }
 },
 "nbformat": 4,
 "nbformat_minor": 5
}
