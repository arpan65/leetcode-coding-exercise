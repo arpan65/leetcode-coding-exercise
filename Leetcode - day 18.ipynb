{
 "cells": [
  {
   "cell_type": "markdown",
   "id": "894f19bb",
   "metadata": {},
   "source": [
    "## Find Minimum in Rotated Sorted Array\n",
    "\n",
    "Suppose an array of length n sorted in ascending order is rotated between 1 and n times. For example, the array nums = [0,1,2,4,5,6,7] might become:\n",
    "\n",
    "[4,5,6,7,0,1,2] if it was rotated 4 times.\n",
    "[0,1,2,4,5,6,7] if it was rotated 7 times.\n",
    "Notice that rotating an array [a[0], a[1], a[2], ..., a[n-1]] 1 time results in the array [a[n-1], a[0], a[1], a[2], ..., a[n-2]].\n",
    "\n",
    "Given the sorted rotated array nums of unique elements, return the minimum element of this array.\n",
    "\n",
    "You must write an algorithm that runs in O(log n) time.\n",
    "\n",
    " \n",
    "\n",
    "Example 1:\n",
    "\n",
    "Input: nums = [3,4,5,1,2]\n",
    "Output: 1\n",
    "Explanation: The original array was [1,2,3,4,5] rotated 3 times.\n",
    "\n",
    "\n",
    "Example 2:\n",
    "\n",
    "Input: nums = [4,5,6,7,0,1,2]\n",
    "Output: 0\n",
    "Explanation: The original array was [0,1,2,4,5,6,7] and it was rotated 4 times."
   ]
  },
  {
   "cell_type": "markdown",
   "id": "38372a04",
   "metadata": {},
   "source": [
    "## Solution:\n",
    "\n",
    "This problem can be solved using binary search in O(log n) time.\n",
    "\n",
    "In binary search we use two pointer l(initialized with 0) and r(initialized with len(array)-1)\n",
    "\n",
    "and we look for the middle element of these two pointers.\n",
    "\n",
    "The problem statement mentioned that the sorted array can be rotated, which means there can be a point where the previous element can be larger than the current middle element or the current middle element can be greater than the next element. This is called inversion point.(in normal senario for a sorted array arr[mid-1]<=array[mid]<=array[mid+1]).\n",
    "\n",
    "\n",
    "So our stopping point will be a inversion point.\n",
    "\n",
    "for [4,5,6,7,0,1,2] [7,0] is the inversion point.\n",
    "\n",
    "If the middle pointer is greater than the arr[l], it means that partition of the array is sorted, and as the array is roateted we need to search the right half of the middle element.Otherwise we will search the left part of the middle element.\n",
    "\n",
    "One case can be where the array is just sorted, not rotated. So there will not be any inversion point. If we observe carefully, In such cases arr[l] will be <= array[r] (i.e. [1,2,3,4]). So we will just return the array[l] there directly. "
   ]
  },
  {
   "cell_type": "code",
   "execution_count": 3,
   "id": "d3ca57fd",
   "metadata": {},
   "outputs": [],
   "source": [
    "class Solution:\n",
    "    def findMin(self, nums):\n",
    "        # if there is only one element return that element\n",
    "        if (len(nums)==1):\n",
    "            return nums[0]\n",
    "        # initialize l,r pointers\n",
    "        l=0\n",
    "        r=len(nums)-1\n",
    "        while l<r:\n",
    "            # if the array is not roated return arr[l]\n",
    "            if(nums[l]<=nums[r]):\n",
    "                return nums[l]\n",
    "            mid=int((l+r)/2)\n",
    "            # if the middle element is greater than the first element(arr[l]), search right\n",
    "            if (nums[mid]>nums[l]):\n",
    "                l=mid+1\n",
    "            # else if we are in a inversion point check which element is smaller    \n",
    "            elif(nums[mid]>nums[mid+1]):\n",
    "                return nums[mid+1]\n",
    "            elif(nums[mid-1]>nums[mid]):\n",
    "                return nums[mid]\n",
    "            # else search in the left part of middle\n",
    "            else:\n",
    "                r=mid-1\n",
    "        return nums[l]   \n",
    "              \n",
    "             \n",
    "                 "
   ]
  },
  {
   "cell_type": "code",
   "execution_count": 2,
   "id": "00690843",
   "metadata": {},
   "outputs": [
    {
     "data": {
      "text/plain": [
       "0"
      ]
     },
     "execution_count": 2,
     "metadata": {},
     "output_type": "execute_result"
    }
   ],
   "source": [
    "Solution().findMin([4,5,6,7,0,1,2])"
   ]
  }
 ],
 "metadata": {
  "kernelspec": {
   "display_name": "Python 3",
   "language": "python",
   "name": "python3"
  },
  "language_info": {
   "codemirror_mode": {
    "name": "ipython",
    "version": 3
   },
   "file_extension": ".py",
   "mimetype": "text/x-python",
   "name": "python",
   "nbconvert_exporter": "python",
   "pygments_lexer": "ipython3",
   "version": "3.9.5"
  }
 },
 "nbformat": 4,
 "nbformat_minor": 5
}
