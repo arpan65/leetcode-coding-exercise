{
 "cells": [
  {
   "cell_type": "markdown",
   "id": "5d6258f8",
   "metadata": {},
   "source": [
    "# Number of Islands\n",
    "\n",
    "Given an m x n 2D binary grid grid which represents a map of '1's (land) and '0's (water), return the number of islands.\n",
    "\n",
    "An island is surrounded by water and is formed by connecting adjacent lands horizontally or vertically. You may assume all four edges of the grid are all surrounded by water.\n",
    "\n",
    " \n",
    "\n",
    "Example 1:\n",
    "\n",
    "Input: grid = [\n",
    "  [\"1\",\"1\",\"1\",\"1\",\"0\"],\n",
    "  [\"1\",\"1\",\"0\",\"1\",\"0\"],\n",
    "  [\"1\",\"1\",\"0\",\"0\",\"0\"],\n",
    "  [\"0\",\"0\",\"0\",\"0\",\"0\"]\n",
    "]\n",
    "Output: 1\n",
    "Example 2:\n",
    "\n",
    "Input: grid = [\n",
    "  [\"1\",\"1\",\"0\",\"0\",\"0\"],\n",
    "  [\"1\",\"1\",\"0\",\"0\",\"0\"],\n",
    "  [\"0\",\"0\",\"1\",\"0\",\"0\"],\n",
    "  [\"0\",\"0\",\"0\",\"1\",\"1\"]\n",
    "]\n",
    "Output: 3"
   ]
  },
  {
   "cell_type": "code",
   "execution_count": 1,
   "id": "420cfdff",
   "metadata": {},
   "outputs": [],
   "source": [
    "class Solution:\n",
    "    def numIslands(self, grid):\n",
    "        rows,cols=len(grid),len(grid[0])\n",
    "        visited=set()\n",
    "        count=0\n",
    "        def dfs(r,c):\n",
    "            if (r<0 or c<0) or (r>rows-1 or c>cols-1) or (r,c) in visited or grid[r][c]=='0':\n",
    "                return   \n",
    "            visited.add((r,c))\n",
    "            dfs(r+1,c)\n",
    "            dfs(r,c+1)\n",
    "            dfs(r-1,c)\n",
    "            dfs(r,c-1)\n",
    "          \n",
    "            \n",
    "        for r in range(rows):\n",
    "            for c in range(cols):\n",
    "                if grid[r][c]=='1':\n",
    "                    if (r,c) not in visited:\n",
    "                        count+=1\n",
    "                dfs(r,c) \n",
    "                             \n",
    "        return count       "
   ]
  },
  {
   "cell_type": "code",
   "execution_count": null,
   "id": "6d40c363",
   "metadata": {},
   "outputs": [],
   "source": []
  }
 ],
 "metadata": {
  "kernelspec": {
   "display_name": "Python 3",
   "language": "python",
   "name": "python3"
  },
  "language_info": {
   "codemirror_mode": {
    "name": "ipython",
    "version": 3
   },
   "file_extension": ".py",
   "mimetype": "text/x-python",
   "name": "python",
   "nbconvert_exporter": "python",
   "pygments_lexer": "ipython3",
   "version": "3.9.5"
  }
 },
 "nbformat": 4,
 "nbformat_minor": 5
}
