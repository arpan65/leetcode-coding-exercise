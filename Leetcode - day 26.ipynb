{
 "cells": [
  {
   "cell_type": "markdown",
   "id": "6f79bb0e",
   "metadata": {},
   "source": [
    "# Coin Change\n",
    "\n",
    "You are given an integer array coins representing coins of different denominations and an integer amount representing a total amount of money.\n",
    "\n",
    "Return the fewest number of coins that you need to make up that amount. If that amount of money cannot be made up by any combination of the coins, return -1.\n",
    "\n",
    "You may assume that you have an infinite number of each kind of coin.\n",
    "\n",
    " \n",
    "\n",
    "Example 1:\n",
    "\n",
    "Input: coins = [1,2,5], amount = 11\n",
    "Output: 3\n",
    "Explanation: 11 = 5 + 5 + 1\n",
    "\n",
    "Example 2:\n",
    "\n",
    "Input: coins = [2], amount = 3\n",
    "Output: -1\n",
    "Example 3:\n",
    "\n",
    "Input: coins = [1], amount = 0\n",
    "Output: 0"
   ]
  },
  {
   "cell_type": "markdown",
   "id": "81f0fd4a",
   "metadata": {},
   "source": [
    "## Bottom Up Dynamic Programming Approach\n",
    "\n",
    "Let's understand how we can solve this problem using bottom up dynamic programming.\n",
    "Suppose we can use denominations of [1,3,4,5] and the amount we need is 7.\n",
    "\n",
    "Now if ask what is the minimal way that we can get a 0, its 0 right?\n",
    "Similarly if we want the amount of 1 there is only one way. But how have we got it?\n",
    "if we check all the denominations up to amount one by one:\n",
    "\n",
    "we need a 1:\n",
    "-----------------\n",
    "    For each coin in denominations\n",
    "    if we use 1, the amount left is 1-1=0, so we can take it.it, so now the question is in how many ways we can do it. So it will be 1+ ways to get(1-1)=1+0=1 right?\n",
    "    \n",
    "    if we use 3, the amount left is 1-3=-2, so we can't take it\n",
    "    similarly we can't take 4 or 5\n",
    "    \n",
    "so to make the amount of 1 we have 1 ways\n",
    "\n",
    "We need a 2:\n",
    "-----------------\n",
    "    For each coin in denominations\n",
    "    if we use 1, the amount left is 2-1=1, so we can take it, so again if we ask, how many ways we can do it? it will be 1+ ways to get(2-1)=1+1=2\n",
    "    \n",
    "    if we use 3, the amount left is 2-3=-1, so we can't take it\n",
    "    similarly we can't take 4 or 5\n",
    "    \n",
    "so to make the amount of 2 we have 2 ways  \n",
    "\n",
    "We need a 3:\n",
    "-----------------\n",
    "    For each coin in denominations\n",
    "    if we use 1, the amount left is 3-1=2, so we can take it, so again if we ask, how many ways we can do it? it will be 1+ ways to get(3-1)=1+2=3\n",
    "    [Is it the answer? wait let's check our other alternatives]\n",
    "    \n",
    "    if we use 3, the amount left is 3-3=0, so we can also take it. In that case we can do it 1+ways to get(3-3)=1+0=1 ways. Its lesser than our previous alternative..\n",
    "    we can't take 4 or 5 as they are greater than 3\n",
    "    \n",
    "..........\n",
    "\n",
    "So if we get the intuition we need to calculate it upto the required amount, and in the process we will maintain an array dp[] which will contain all the values in bottom up manner. So when we need to calculate the ways to get 3 we already have calculated the ways to get a and 2.\n",
    "\n",
    "dp[amount] will be our final answer! "
   ]
  },
  {
   "cell_type": "code",
   "execution_count": 1,
   "id": "039c258b",
   "metadata": {},
   "outputs": [],
   "source": [
    "class Solution:\n",
    "    def coinChange(self, coins, amount):\n",
    "        dp=[amount+1]*(amount+1)\n",
    "        dp[0]=0\n",
    "        for m in range(1,amount+1):\n",
    "            for c in coins:\n",
    "                if m-c>=0:\n",
    "                    dp[m]=min(dp[m],1+dp[m-c])\n",
    "        if(dp[amount]==amount+1):\n",
    "            return -1\n",
    "        return dp[amount]"
   ]
  },
  {
   "cell_type": "code",
   "execution_count": 2,
   "id": "d034e2df",
   "metadata": {},
   "outputs": [
    {
     "data": {
      "text/plain": [
       "3"
      ]
     },
     "execution_count": 2,
     "metadata": {},
     "output_type": "execute_result"
    }
   ],
   "source": [
    "Solution().coinChange([1,2,5],11)"
   ]
  }
 ],
 "metadata": {
  "kernelspec": {
   "display_name": "Python 3",
   "language": "python",
   "name": "python3"
  },
  "language_info": {
   "codemirror_mode": {
    "name": "ipython",
    "version": 3
   },
   "file_extension": ".py",
   "mimetype": "text/x-python",
   "name": "python",
   "nbconvert_exporter": "python",
   "pygments_lexer": "ipython3",
   "version": "3.9.5"
  }
 },
 "nbformat": 4,
 "nbformat_minor": 5
}
