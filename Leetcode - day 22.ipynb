{
 "cells": [
  {
   "cell_type": "markdown",
   "id": "866d391f",
   "metadata": {},
   "source": [
    "## Counting Bits\n",
    "\n",
    "Given an integer n, return an array ans of length n + 1 such that for each i (0 <= i <= n), ans[i] is the number of 1's in the binary representation of i.\n",
    "\n",
    " \n",
    "\n",
    "Example 1:\n",
    "\n",
    "Input: n = 2\n",
    "Output: [0,1,1]\n",
    "Explanation:\n",
    "0 --> 0\n",
    "1 --> 1\n",
    "2 --> 10\n",
    "\n",
    "Example 2:\n",
    "\n",
    "Input: n = 5\n",
    "Output: [0,1,1,2,1,2]\n",
    "Explanation:\n",
    "0 --> 0\n",
    "1 --> 1\n",
    "2 --> 10\n",
    "3 --> 11\n",
    "4 --> 100\n",
    "5 --> 101"
   ]
  },
  {
   "cell_type": "markdown",
   "id": "de3ec6d7",
   "metadata": {},
   "source": [
    "## O(n log n) naive solution "
   ]
  },
  {
   "cell_type": "code",
   "execution_count": 1,
   "id": "089077b9",
   "metadata": {},
   "outputs": [],
   "source": [
    "class Solution:\n",
    "    def countBits(self, n: int):\n",
    "        def numOne(s):\n",
    "            count=0\n",
    "            for l in s:\n",
    "                if(l=='1'):\n",
    "                    count+=1\n",
    "            return count        \n",
    "        res=[]\n",
    "        for i in range(n+1):\n",
    "            res.append(numOne(bin(i)[2::]))\n",
    "        return res    \n",
    "        "
   ]
  },
  {
   "cell_type": "code",
   "execution_count": 2,
   "id": "1687f8c1",
   "metadata": {},
   "outputs": [
    {
     "data": {
      "text/plain": [
       "[0, 1, 1, 2, 1, 2, 2]"
      ]
     },
     "execution_count": 2,
     "metadata": {},
     "output_type": "execute_result"
    }
   ],
   "source": [
    "Solution().countBits(6)"
   ]
  },
  {
   "cell_type": "markdown",
   "id": "fedc679e",
   "metadata": {},
   "source": [
    "## O(n) solution using dynamic programming"
   ]
  },
  {
   "cell_type": "markdown",
   "id": "8d3e7431",
   "metadata": {},
   "source": [
    "<a href=\"https://ibb.co/mCbQTML\"><img src=\"https://i.ibb.co/qM7bjPt/Screenshot-2021-09-09-at-9-21-05-AM.png\" alt=\"Screenshot-2021-09-09-at-9-21-05-AM\" border=\"0\"></a>"
   ]
  },
  {
   "cell_type": "code",
   "execution_count": 3,
   "id": "05bf47a8",
   "metadata": {},
   "outputs": [],
   "source": [
    "class Solution:\n",
    "    def countBits(self, n: int):\n",
    "        dp=[0]*(n+1)\n",
    "        offset=1\n",
    "        for i in range(1,n+1):\n",
    "            if(offset*2==i):\n",
    "                offset=i\n",
    "            dp[i]=1+dp[i-offset]\n",
    "        return dp\n",
    "        "
   ]
  },
  {
   "cell_type": "code",
   "execution_count": 4,
   "id": "4f2fc206",
   "metadata": {},
   "outputs": [
    {
     "data": {
      "text/plain": [
       "[0, 1, 1, 2, 1, 2, 2, 3]"
      ]
     },
     "execution_count": 4,
     "metadata": {},
     "output_type": "execute_result"
    }
   ],
   "source": [
    "Solution().countBits(7)"
   ]
  }
 ],
 "metadata": {
  "kernelspec": {
   "display_name": "Python 3",
   "language": "python",
   "name": "python3"
  },
  "language_info": {
   "codemirror_mode": {
    "name": "ipython",
    "version": 3
   },
   "file_extension": ".py",
   "mimetype": "text/x-python",
   "name": "python",
   "nbconvert_exporter": "python",
   "pygments_lexer": "ipython3",
   "version": "3.9.5"
  }
 },
 "nbformat": 4,
 "nbformat_minor": 5
}
