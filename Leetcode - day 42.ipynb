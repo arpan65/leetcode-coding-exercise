{
 "cells": [
  {
   "attachments": {
    "image.png": {
     "image/png": "[encoded data removed]"
    }
   },
   "cell_type": "markdown",
   "id": "56f19fc3",
   "metadata": {},
   "source": [
    "# Lowest Common Ancestor of a Binary Tree\n",
    "\n",
    "Given a binary tree, find the lowest common ancestor (LCA) of two given nodes in the tree.\n",
    "\n",
    "According to the definition of LCA on Wikipedia: “The lowest common ancestor is defined between two nodes p and q as the lowest node in T that has both p and q as descendants (where we allow a node to be a descendant of itself).”\n",
    "\n",
    " \n",
    "\n",
    "Example 1:\n",
    "![image.png](attachment:image.png)\n",
    "\n",
    "Input: root = [3,5,1,6,2,0,8,null,null,7,4], p = 5, q = 1\n",
    "Output: 3\n",
    "Explanation: The LCA of nodes 5 and 1 is 3.\n",
    "Example 2:\n",
    "\n",
    "![image.png](attachment:image.png)\n",
    "Input: root = [3,5,1,6,2,0,8,null,null,7,4], p = 5, q = 4\n",
    "Output: 5\n",
    "Explanation: The LCA of nodes 5 and 4 is 5, since a node can be a descendant of itself according to the LCA definition.\n",
    "Example 3:\n",
    "\n",
    "Input: root = [1,2], p = 1, q = 2\n",
    "Output: 1"
   ]
  },
  {
   "cell_type": "code",
   "execution_count": 1,
   "id": "209acfe6",
   "metadata": {},
   "outputs": [],
   "source": [
    "# Definition for a binary tree node.\n",
    "# class TreeNode:\n",
    "#     def __init__(self, x):\n",
    "#         self.val = x\n",
    "#         self.left = None\n",
    "#         self.right = None\n",
    "\n",
    "class Solution:\n",
    "    def lowestCommonAncestor(self, root, p, q):\n",
    "        # mark parent of each nodes of the fraph\n",
    "        def markParent(node,par=None):\n",
    "            # if null return\n",
    "            if not node:return\n",
    "            # mark parent node\n",
    "            node.par=par\n",
    "            # do the same for chil nodes using dfs\n",
    "            markParent(node.left,node)\n",
    "            markParent(node.right,node)\n",
    "        markParent(root)\n",
    "        # create a dict to maintain ancesstors of each node\n",
    "        visited={}\n",
    "        # method to traverse using dfs and get ancestors for every node\n",
    "        def dfs(node):\n",
    "            # if null return\n",
    "            if not node: return\n",
    "            # add ancestors to the visited\n",
    "            if node.par and node.val not in visited:\n",
    "                visited[node.val]=visited[node.par.val].copy()\n",
    "                visited[node.val].append(node)\n",
    "            else:\n",
    "                visited[node.val]=[node]  \n",
    "            # do the same for child nodes    \n",
    "            dfs(node.left)\n",
    "            dfs(node.right)\n",
    "        dfs(root) \n",
    "        # from the last level of q, the matching common ancestor at p will be LCA\n",
    "        for i in range(len(visited[q.val])-1,-1,-1):\n",
    "            if visited[q.val][i] in visited[p.val]:\n",
    "                return visited[q.val][i]\n",
    "        "
   ]
  }
 ],
 "metadata": {
  "kernelspec": {
   "display_name": "Python 3 (ipykernel)",
   "language": "python",
   "name": "python3"
  },
  "language_info": {
   "codemirror_mode": {
    "name": "ipython",
    "version": 3
   },
   "file_extension": ".py",
   "mimetype": "text/x-python",
   "name": "python",
   "nbconvert_exporter": "python",
   "pygments_lexer": "ipython3",
   "version": "3.9.7"
  }
 },
 "nbformat": 4,
 "nbformat_minor": 5
}
