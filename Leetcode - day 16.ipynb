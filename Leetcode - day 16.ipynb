{
 "cells": [
  {
   "cell_type": "markdown",
   "id": "9514073a",
   "metadata": {},
   "source": [
    "# Leetcode - day 16"
   ]
  },
  {
   "cell_type": "markdown",
   "id": "a8711bf2",
   "metadata": {},
   "source": [
    "## First Missing Positive\n",
    "\n",
    "Given an unsorted integer array nums, return the smallest missing positive integer.\n",
    "\n",
    "You must implement an algorithm that runs in O(n) time and uses constant extra space.\n",
    "\n",
    " \n",
    "\n",
    "Example 1:\n",
    "\n",
    "Input: nums = [1,2,0]\n",
    "Output: 3\n",
    "\n",
    "\n",
    "Example 2:\n",
    "\n",
    "Input: nums = [3,4,-1,1]\n",
    "Output: 2\n",
    "\n",
    "\n",
    "Example 3:\n",
    "\n",
    "Input: nums = [7,8,9,11,12]\n",
    "Output: 1"
   ]
  },
  {
   "cell_type": "markdown",
   "id": "10bc8997",
   "metadata": {},
   "source": [
    "### Approach 1: Using a hashset, time complexity O(n)"
   ]
  },
  {
   "cell_type": "code",
   "execution_count": 21,
   "id": "c9106306",
   "metadata": {},
   "outputs": [],
   "source": [
    "class Solution:\n",
    "    def firstMissingPositive(self, nums):\n",
    "        freq={}\n",
    "        for ele in nums:\n",
    "            freq[ele]=1\n",
    "        for i in range(len(nums)+1):\n",
    "            if(i+1) not in freq.keys():\n",
    "                return i+1\n",
    "            "
   ]
  },
  {
   "cell_type": "code",
   "execution_count": 22,
   "id": "8bb5b94c",
   "metadata": {},
   "outputs": [
    {
     "data": {
      "text/plain": [
       "13"
      ]
     },
     "execution_count": 22,
     "metadata": {},
     "output_type": "execute_result"
    }
   ],
   "source": [
    "Solution().firstMissingPositive([1,2,3,4,5,6,7,8,9,10,11,12,17])"
   ]
  },
  {
   "cell_type": "code",
   "execution_count": 23,
   "id": "628a756e",
   "metadata": {},
   "outputs": [
    {
     "data": {
      "text/plain": [
       "3"
      ]
     },
     "execution_count": 23,
     "metadata": {},
     "output_type": "execute_result"
    }
   ],
   "source": [
    "Solution().firstMissingPositive([0,2,2,1,1])"
   ]
  },
  {
   "cell_type": "markdown",
   "id": "5956557d",
   "metadata": {},
   "source": [
    "### Approach 2: O(n) without using extra space"
   ]
  },
  {
   "cell_type": "code",
   "execution_count": 24,
   "id": "0ce1e3d6",
   "metadata": {},
   "outputs": [],
   "source": [
    "class Solution:\n",
    "    def firstMissingPositive(self, nums):\n",
    "        for i in range(len(nums)):\n",
    "            if nums[i]<0:\n",
    "                nums[i]=0\n",
    "        for i in range(len(nums)):\n",
    "            if(abs(nums[i])-1>=0 and abs(nums[i])-1<len(nums)):\n",
    "                if(nums[abs(nums[i])-1]>0):\n",
    "                    nums[abs(nums[i])-1]=-1*nums[abs(nums[i])-1] \n",
    "                elif(nums[abs(nums[i])-1]==0):\n",
    "                    nums[abs(nums[i])-1]=-1*(len(nums)+1)\n",
    "        for i in range(1,len(nums)+1):\n",
    "            if(nums[i-1]>=0):\n",
    "                return i\n",
    "        return len(nums)+1\n",
    "                \n",
    "                \n"
   ]
  },
  {
   "cell_type": "code",
   "execution_count": 25,
   "id": "64eac74a",
   "metadata": {},
   "outputs": [
    {
     "data": {
      "text/plain": [
       "13"
      ]
     },
     "execution_count": 25,
     "metadata": {},
     "output_type": "execute_result"
    }
   ],
   "source": [
    "Solution().firstMissingPositive([1,2,3,4,5,6,7,8,9,10,11,12,17])"
   ]
  },
  {
   "cell_type": "markdown",
   "id": "5f66e8cb",
   "metadata": {},
   "source": [
    "## Explaination:\n",
    "    \n",
    "https://www.youtube.com/watch?v=8g78yfzMlao"
   ]
  }
 ],
 "metadata": {
  "kernelspec": {
   "display_name": "Python 3",
   "language": "python",
   "name": "python3"
  },
  "language_info": {
   "codemirror_mode": {
    "name": "ipython",
    "version": 3
   },
   "file_extension": ".py",
   "mimetype": "text/x-python",
   "name": "python",
   "nbconvert_exporter": "python",
   "pygments_lexer": "ipython3",
   "version": "3.9.5"
  }
 },
 "nbformat": 4,
 "nbformat_minor": 5
}
