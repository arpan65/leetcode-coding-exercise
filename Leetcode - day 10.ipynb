{
 "cells": [
  {
   "cell_type": "markdown",
   "id": "8ab712bb",
   "metadata": {},
   "source": [
    "# Leetcode - day 10"
   ]
  },
  {
   "cell_type": "markdown",
   "id": "ea6acae6",
   "metadata": {},
   "source": [
    "## Combination Sum II\n",
    "\n",
    "Given a collection of candidate numbers (candidates) and a target number (target), find all unique combinations in candidates where the candidate numbers sum to target.\n",
    "\n",
    "Each number in candidates may only be used once in the combination.\n",
    "\n",
    "Note: The solution set must not contain duplicate combinations."
   ]
  },
  {
   "cell_type": "markdown",
   "id": "f4313b83",
   "metadata": {},
   "source": [
    "Example 1:\n",
    "\n",
    "Input: candidates = [10,1,2,7,6,1,5], target = 8\n",
    "Output: \n",
    "[\n",
    "[1,1,6],\n",
    "[1,2,5],\n",
    "[1,7],\n",
    "[2,6]\n",
    "]\n",
    "\n",
    "\n",
    "Example 2:\n",
    "\n",
    "Input: candidates = [2,5,2,1,2], target = 5\n",
    "Output: \n",
    "[\n",
    "[1,2,2],\n",
    "[5]\n",
    "]"
   ]
  },
  {
   "cell_type": "markdown",
   "id": "d848284f",
   "metadata": {},
   "source": [
    "## Solution:\n",
    "\n",
    "One approach to solve the problem using the concept of kSum problem, where we need to find out the unique combinations using k elements such that the sum of the elements of each combination is equal to a target value.\n",
    "\n",
    "Algorithm:\n",
    "  1. sort the array\n",
    "  2. if the target is present in array add [target] to the result list\n",
    "  3. for i in range(length of array), call kSum(array,target,k)\n",
    "  \n",
    "\n",
    "### KSum Algorithm\n",
    "  We can implement k - 2 loops using a recursion. We will pass the starting point and k as the parameters. When k == 2, we will call twoSum, terminating the recursion.\n",
    "\n",
    "For the main function:\n",
    "\n",
    "Sort the input array nums.\n",
    "Call kSum with start = 0, k = 4, and target, and return the result.\n",
    "For kSum function:\n",
    "\n",
    "Check if the sum of k smallest values is greater than target, or the sum of k largest values is smaller than target. Since the array is sorted, the smallest value is nums[start], and largest - the last element in nums.\n",
    "If so, no need to continue - there are no k elements that sum to target.\n",
    "If k equals 2, call twoSum and return the result.\n",
    "Iterate i through the array from start:\n",
    "If the current value is the same as the one before, skip it.\n",
    "Recursively call kSum with start = i + 1, k = k - 1, and target - nums[i].\n",
    "For each returned subset of values:\n",
    "Include the current value nums[i] into subset.\n",
    "Add subset to the result res.\n",
    "Return the result res.\n",
    "For twoSum function:\n",
    "\n",
    "Set the low pointer lo to start, and high pointer hi to the last index.\n",
    "While low pointer is smaller than high:\n",
    "If the sum of nums[lo] and nums[hi] is less than target, increment lo.\n",
    "Also increment lo if the value is the same as for lo - 1.\n",
    "If the sum is greater than target, decrement hi.\n",
    "Also decrement hi if the value is the same as for hi + 1.\n",
    "Otherwise, we found a pair:\n",
    "Add it to the result res.\n",
    "Decrement hi and increment lo.\n",
    "Return the result res.\n",
    "\n",
    "https://leetcode.com/problems/4sum/solution/"
   ]
  },
  {
   "cell_type": "code",
   "execution_count": 5,
   "id": "43fc1f5e",
   "metadata": {},
   "outputs": [],
   "source": [
    "class Solution:\n",
    "    def combinationSum2(self, nums,target):\n",
    "        res=[]\n",
    "        # method for kSum\n",
    "        def kSum(nums,target,k):\n",
    "            res=[]\n",
    "            # if length of the array is 0 or the target is impossible to acheive return []\n",
    "            if(len(nums)==0 or target<nums[0]*k or target>nums[len(nums)-1]*k):\n",
    "                return []\n",
    "            # if k=2 call twoSum method\n",
    "            elif(k==2):\n",
    "                return twoSum(nums,target)\n",
    "            else:\n",
    "                # else for unique element in the array call kSum(arr[next elements],new target, k-1)\n",
    "                for i in range(len(nums)):\n",
    "                    if(i==0 or nums[i]!=nums[i-1]):\n",
    "                        subsets=kSum(nums[i+1::],target-nums[i],k-1)\n",
    "                        # for each element in the subset add the current element\n",
    "                        # note NONE+ array[i] will be NONE so only valid combinations will bubble up\n",
    "                        for ele in subsets:\n",
    "                            res.append(ele+[nums[i]])\n",
    "            return res                \n",
    "        \n",
    "        # method for two Sum\n",
    "        def twoSum(nums,target):\n",
    "            # define two pointers l which points the first element and r which points the last element\n",
    "            # NOTE: the array is already sorted\n",
    "            l=0\n",
    "            r=len(nums)-1\n",
    "            res=[]\n",
    "            # while left pointer is less than right one\n",
    "            while l<r:\n",
    "                # calculate sum of these two elements\n",
    "                sums=nums[l]+nums[r]\n",
    "                # if sum is less than target or the current element is duplicate, move right\n",
    "                if(sums<target or (l>0 and nums[l-1]==nums[l])):\n",
    "                    l+=1\n",
    "                # else if sum = target, add the elements to result list, reduce right pointer, increase left    \n",
    "                elif(sums==target):\n",
    "                    res.append([nums[l],nums[r]])\n",
    "                    l+=1\n",
    "                    r-=1\n",
    "                # othereise if sum>target we need to reduce the sum, so move left    \n",
    "                else:\n",
    "                    r-=1\n",
    "            return res\n",
    "        \n",
    "        # sort the input array\n",
    "        nums.sort()\n",
    "        \n",
    "        # if the target is itself present in the array, add it to the result list\n",
    "        if target in nums:\n",
    "            res.append([target])\n",
    "            \n",
    "        # calculate kSum for k>1 and k<=number of elements    \n",
    "        for k in range(2,len(nums)+1):\n",
    "            for ele in kSum(nums,target,k):\n",
    "                res.append(ele)\n",
    "        return res\n",
    "                            \n",
    "        "
   ]
  },
  {
   "cell_type": "code",
   "execution_count": 6,
   "id": "fe5e7817",
   "metadata": {},
   "outputs": [
    {
     "data": {
      "text/plain": [
       "[[1, 7], [2, 6], [1, 6, 1], [2, 5, 1]]"
      ]
     },
     "execution_count": 6,
     "metadata": {},
     "output_type": "execute_result"
    }
   ],
   "source": [
    "nums=[10,1,2,7,6,1,5]\n",
    "Solution().combinationSum2(nums,target=8)"
   ]
  },
  {
   "cell_type": "markdown",
   "id": "ad2a0e45",
   "metadata": {},
   "source": [
    "## Next Greater Element II\n",
    "\n",
    "\n",
    "Given a circular integer array nums (i.e., the next element of nums[nums.length - 1] is nums[0]), return the next greater number for every element in nums.\n",
    "\n",
    "The next greater number of a number x is the first greater number to its traversing-order next in the array, which means you could search circularly to find its next greater number. If it doesn't exist, return -1 for this number."
   ]
  },
  {
   "cell_type": "markdown",
   "id": "fbbac472",
   "metadata": {},
   "source": [
    "Example 1:\n",
    "\n",
    "Input: nums = [1,2,1]\n",
    "Output: [2,-1,2]\n",
    "Explanation: The first 1's next greater number is 2; \n",
    "The number 2 can't find next greater number. \n",
    "The second 1's next greater number needs to search circularly, which is also 2.\n",
    "\n",
    "\n",
    "Example 2:\n",
    "\n",
    "Input: nums = [1,2,3,4,3]\n",
    "Output: [2,3,4,-1,4]\n",
    "\n",
    "Constraints:\n",
    "\n",
    "1 <= nums.length <= 104\n",
    "-109 <= nums[i] <= 109"
   ]
  },
  {
   "attachments": {},
   "cell_type": "markdown",
   "id": "eae454cd",
   "metadata": {},
   "source": [
    "### Solution:\n",
    "\n",
    "This approach makes use of a stack. This stack stores the indices of the appropriate elements from nums array. The top of the stack refers to the index of the Next Greater Element found so far. We store the indices instead of the elements since there could be duplicates in the numsnums array. The description of the method will make the above statement clearer.\n",
    "\n",
    "We start traversing the numsnums array from right towards the left. For an element nums[i]nums[i] encountered, we pop all the elements stack[top]stack[top] from the stack such that nums\\big[stack[top]\\big] ≤ nums[i]. We continue the popping till we encounter a stack[top]stack[top] satisfying nums\\big[stack[top]\\big] > nums[i]nums[stack[top]]>nums[i]. Now, it is obvious that the current stack[top]stack[top] only can act as the Next Greater Element for nums[i]nums[i](right now, considering only the elements lying to the right of nums[i]nums[i]).\n",
    "\n",
    "If no element remains on the top of the stack, it means no larger element than nums[i]nums[i] exists to its right. Along with this, we also push the index of the element just encountered(nums[i]nums[i]), i.e. ii over the top of the stack, so that nums[i]nums[i](or stack[topstack[top) now acts as the Next Greater Element for the elements lying to its left.\n",
    "\n",
    "We go through two such passes over the complete numsnums array. This is done so as to complete a circular traversal over the numsnums array. The first pass could make some wrong entries in the resres array since it considers only the elements lying to the right of nums[i]nums[i], without a circular traversal. But, these entries are corrected in the second pass.\n",
    "\n",
    "Further, to ensure the correctness of the method, let's look at the following cases.\n",
    "\n",
    "Assume that nums[j]nums[j] is the correct Next Greater Element for nums[i]nums[i], such that i < j ≤ stack[top]. Now, whenever we encounter nums[j]nums[j], if nums[j] > nums\\big[stack[top]\\big]nums[j]>nums[stack[top]], it would have already popped the previous stack[top]stack[top] and jj would have become the topmost element. On the other hand, if nums[j] < nums\\big[stack[top]\\big]nums[j]<nums[stack[top]], it would have become the topmost element by being pushed above the previous stack[top]stack[top]. In both the cases, if nums[j] > nums[i]nums[j]>nums[i], it will be correctly determined to be the Next Greater Element.\n",
    "\n",
    "https://leetcode.com/problems/next-greater-element-ii/solution/"
   ]
  },
  {
   "cell_type": "code",
   "execution_count": 14,
   "id": "7d071a22",
   "metadata": {},
   "outputs": [],
   "source": [
    "class Solution:\n",
    "    def nextGreaterElements(self, nums):\n",
    "        res=[-1]*len(nums)\n",
    "        stack=[]\n",
    "        for i in range(len(nums)*2-1,-1,-1):\n",
    "            while (len(stack)>0 and nums[i%len(nums)]>=stack[-1]):\n",
    "                stack.pop(-1)  \n",
    "            if(len(stack)==0):\n",
    "                res[i%len(nums)]=-1\n",
    "            else:\n",
    "                res[i%len(nums)]=stack[-1]   \n",
    "            stack.append(nums[i%len(nums)])     \n",
    "        return res    "
   ]
  },
  {
   "cell_type": "code",
   "execution_count": 15,
   "id": "9d9660d7",
   "metadata": {},
   "outputs": [
    {
     "data": {
      "text/plain": [
       "[2, 3, 4, -1, 4]"
      ]
     },
     "execution_count": 15,
     "metadata": {},
     "output_type": "execute_result"
    }
   ],
   "source": [
    "Solution().nextGreaterElements([1,2,3,4,3])"
   ]
  },
  {
   "cell_type": "code",
   "execution_count": 16,
   "id": "e076d615",
   "metadata": {},
   "outputs": [
    {
     "ename": "SyntaxError",
     "evalue": "invalid syntax (<ipython-input-16-1eae23a47119>, line 1)",
     "output_type": "error",
     "traceback": [
      "\u001b[0;36m  File \u001b[0;32m\"<ipython-input-16-1eae23a47119>\"\u001b[0;36m, line \u001b[0;32m1\u001b[0m\n\u001b[0;31m    Users/arpan/Pictures/Photos(Library.photoslibrary/resources/derivatives/3/305A30EA-6EAB-4BA0-892B-06532161FA25_1_105_c.jpeg)\u001b[0m\n\u001b[0m                                                                                 ^\u001b[0m\n\u001b[0;31mSyntaxError\u001b[0m\u001b[0;31m:\u001b[0m invalid syntax\n"
     ]
    }
   ],
   "source": [
    "/Users/arpan/Pictures/Photos Library.photoslibrary/resources/derivatives/3/305A30EA-6EAB-4BA0-892B-06532161FA25_1_105_c.jpeg"
   ]
  },
  {
   "cell_type": "code",
   "execution_count": null,
   "id": "0dc79823",
   "metadata": {},
   "outputs": [],
   "source": []
  }
 ],
 "metadata": {
  "kernelspec": {
   "display_name": "Python 3",
   "language": "python",
   "name": "python3"
  },
  "language_info": {
   "codemirror_mode": {
    "name": "ipython",
    "version": 3
   },
   "file_extension": ".py",
   "mimetype": "text/x-python",
   "name": "python",
   "nbconvert_exporter": "python",
   "pygments_lexer": "ipython3",
   "version": "3.9.5"
  }
 },
 "nbformat": 4,
 "nbformat_minor": 5
}
