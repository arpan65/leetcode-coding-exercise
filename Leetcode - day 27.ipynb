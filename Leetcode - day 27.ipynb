{
 "cells": [
  {
   "cell_type": "markdown",
   "id": "8ab3672e",
   "metadata": {},
   "source": [
    "# Maximum Product Subarray\n",
    "\n",
    "Given an integer array nums, find a contiguous non-empty subarray within the array that has the largest product, and return the product.\n",
    "\n",
    "It is guaranteed that the answer will fit in a 32-bit integer.\n",
    "\n",
    "A subarray is a contiguous subsequence of the array.\n",
    "\n",
    " \n",
    "\n",
    "Example 1:\n",
    "\n",
    "Input: nums = [2,3,-2,4]\n",
    "Output: 6\n",
    "Explanation: [2,3] has the largest product 6.\n",
    "\n",
    "Example 2:\n",
    "\n",
    "Input: nums = [-2,0,-1]\n",
    "Output: 0\n",
    "Explanation: The result cannot be 2, because [-2,-1] is not a subarray.\n",
    "\n",
    "link: https://leetcode.com/problems/maximum-product-subarray/"
   ]
  },
  {
   "cell_type": "markdown",
   "id": "af0eaf19",
   "metadata": {},
   "source": [
    "## Solution Gist:\n",
    "\n",
    "The problem can be solved by maintaing maximum and minimum products upto each element in the input array.\n",
    "\n",
    "case when all positive: [1,2,3] its just 1*2*3=6\n",
    "it becomes tricky when we introduce -ve numbers, [-1,-2,-3] \n",
    "\n",
    "when we are eveluating -2, min upto this point will be -2, max will be 2 (-1*-2)\n",
    "\n",
    "there is an edge case occurs when the element is 0, we can handle this by setting max and min upto that point to 1 and maintaing the maximum product upto that point in a different varibale."
   ]
  },
  {
   "cell_type": "code",
   "execution_count": 2,
   "id": "c80eb72e",
   "metadata": {},
   "outputs": [],
   "source": [
    "class Solution:\n",
    "    def maxProduct(self, nums):\n",
    "        if len(nums)==1:\n",
    "            return nums[0]\n",
    "        curMax,curMin=1,1\n",
    "        res=max(nums)\n",
    "        for n in nums:\n",
    "            temp=curMax\n",
    "            curMax=max(curMax*n,curMin*n,n)\n",
    "            curMin=min(temp*n,curMin*n,n)\n",
    "            res=max(curMax,res)\n",
    "        return res    \n"
   ]
  },
  {
   "cell_type": "code",
   "execution_count": 3,
   "id": "eb7162cf",
   "metadata": {},
   "outputs": [
    {
     "data": {
      "text/plain": [
       "72"
      ]
     },
     "execution_count": 3,
     "metadata": {},
     "output_type": "execute_result"
    }
   ],
   "source": [
    "Solution().maxProduct([2,3,0,0,9,8,-2,4])"
   ]
  },
  {
   "cell_type": "code",
   "execution_count": null,
   "id": "a1dcbfcf",
   "metadata": {},
   "outputs": [],
   "source": []
  }
 ],
 "metadata": {
  "kernelspec": {
   "display_name": "Python 3",
   "language": "python",
   "name": "python3"
  },
  "language_info": {
   "codemirror_mode": {
    "name": "ipython",
    "version": 3
   },
   "file_extension": ".py",
   "mimetype": "text/x-python",
   "name": "python",
   "nbconvert_exporter": "python",
   "pygments_lexer": "ipython3",
   "version": "3.9.5"
  }
 },
 "nbformat": 4,
 "nbformat_minor": 5
}
