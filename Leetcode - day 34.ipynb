{
 "cells": [
  {
   "cell_type": "markdown",
   "id": "49abb6aa",
   "metadata": {},
   "source": [
    "# Course Schedule\n",
    "\n",
    "There are a total of numCourses courses you have to take, labeled from 0 to numCourses - 1. You are given an array prerequisites where prerequisites[i] = [ai, bi] indicates that you must take course bi first if you want to take course ai.\n",
    "\n",
    "For example, the pair [0, 1], indicates that to take course 0 you have to first take course 1.\n",
    "Return true if you can finish all courses. Otherwise, return false.\n",
    "\n",
    " \n",
    "\n",
    "Example 1:\n",
    "\n",
    "Input: numCourses = 2, prerequisites = [[1,0]]\n",
    "Output: true\n",
    "Explanation: There are a total of 2 courses to take. \n",
    "To take course 1 you should have finished course 0. So it is possible.\n",
    "\n",
    "Example 2:\n",
    "\n",
    "Input: numCourses = 2, prerequisites = [[1,0],[0,1]]\n",
    "Output: false\n",
    "Explanation: There are a total of 2 courses to take. \n",
    "To take course 1 you should have finished course 0, and to take course 0 you should also have finished course 1. So it is impossible."
   ]
  },
  {
   "cell_type": "markdown",
   "id": "d593f887",
   "metadata": {},
   "source": [
    "## Solution:"
   ]
  },
  {
   "cell_type": "code",
   "execution_count": 3,
   "id": "f969777d",
   "metadata": {},
   "outputs": [],
   "source": [
    "class Solution:\n",
    "    def canFinish(self, numCourses, prerequisites):\n",
    "        # if there are no prerequisites for any course, return true\n",
    "        if len(prerequisites)==0:\n",
    "            return True\n",
    "        # create an adjacency list fror all the courses\n",
    "        preReqMap={}\n",
    "        for i in range(numCourses):\n",
    "            preReqMap[i]=[]\n",
    "        for course in prerequisites:\n",
    "            preReqMap[course[0]].append(course[1])\n",
    "        # create a visited set to track loops in currently visiting path\n",
    "        visited=set()\n",
    "        \n",
    "        # DFS function to traverse the graph\n",
    "        def dfs(cur):\n",
    "            # if there are no remaining prerequisites, the course can be completed\n",
    "            if len(preReqMap[cur])==0:\n",
    "                return True\n",
    "            # if there is a cyclic dependency the course can not be completed\n",
    "            if cur in visited:\n",
    "                return False\n",
    "            # add the cur item to visiting set\n",
    "            visited.add(cur)\n",
    "            # for each prerequisites for that course\n",
    "            for preReq in preReqMap[cur]:\n",
    "                # Run DFS, if any of the courses can not be finised, return the result as false\n",
    "                # if false terminate the loop, return False as the result\n",
    "                if dfs(preReq)==False:\n",
    "                    return False\n",
    "            # if we completed visiting a node and the course can be completed\n",
    "            # reset the currently visiting set and the prerequisites for the current course\n",
    "            visited.remove(cur)     \n",
    "            preReqMap[cur]=[]\n",
    "            return True\n",
    "        \n",
    "        # for each element in the adjacency list, run DFS\n",
    "        # if any of the results is false, return False as overall result\n",
    "        for ele in preReqMap:\n",
    "            if dfs(ele)==False:\n",
    "                 return False  \n",
    "        return True\n",
    "                "
   ]
  },
  {
   "cell_type": "markdown",
   "id": "9861d127",
   "metadata": {},
   "source": [
    "Neetcode Solution: https://www.youtube.com/watch?v=EgI5nU9etnU"
   ]
  },
  {
   "cell_type": "code",
   "execution_count": 4,
   "id": "3e952a7a",
   "metadata": {},
   "outputs": [
    {
     "data": {
      "text/plain": [
       "True"
      ]
     },
     "execution_count": 4,
     "metadata": {},
     "output_type": "execute_result"
    }
   ],
   "source": [
    "Solution().canFinish(2,[[1,0]])"
   ]
  }
 ],
 "metadata": {
  "kernelspec": {
   "display_name": "Python 3",
   "language": "python",
   "name": "python3"
  },
  "language_info": {
   "codemirror_mode": {
    "name": "ipython",
    "version": 3
   },
   "file_extension": ".py",
   "mimetype": "text/x-python",
   "name": "python",
   "nbconvert_exporter": "python",
   "pygments_lexer": "ipython3",
   "version": "3.9.5"
  }
 },
 "nbformat": 4,
 "nbformat_minor": 5
}
