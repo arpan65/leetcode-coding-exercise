{
 "cells": [
  {
   "cell_type": "markdown",
   "id": "46c5a8f0",
   "metadata": {},
   "source": [
    "## Climbing Stairs\n",
    "\n",
    "You are climbing a staircase. It takes n steps to reach the top.\n",
    "\n",
    "Each time you can either climb 1 or 2 steps. In how many distinct ways can you climb to the top?\n",
    "\n",
    " \n",
    "\n",
    "Example 1:\n",
    "\n",
    "Input: n = 2\n",
    "Output: 2\n",
    "Explanation: There are two ways to climb to the top.\n",
    "1. 1 step + 1 step\n",
    "2. 2 steps\n",
    "\n",
    "\n",
    "Example 2:\n",
    "\n",
    "Input: n = 3\n",
    "Output: 3\n",
    "Explanation: There are three ways to climb to the top.\n",
    "1. 1 step + 1 step + 1 step\n",
    "2. 1 step + 2 steps\n",
    "3. 2 steps + 1 step"
   ]
  },
  {
   "cell_type": "markdown",
   "id": "ba9b3193",
   "metadata": {},
   "source": [
    "### Linear time solution using memoization"
   ]
  },
  {
   "cell_type": "code",
   "execution_count": 1,
   "id": "7dd3c5b4",
   "metadata": {},
   "outputs": [],
   "source": [
    "class Solution:\n",
    "    def climbStairs(self,n):\n",
    "        memory={}\n",
    "        def calStairs(cur):\n",
    "            if(cur in memory):\n",
    "                return memory[cur]\n",
    "            if(cur==n):\n",
    "                return 1\n",
    "            elif(cur>n):\n",
    "                return 0 \n",
    "            memory[cur]=calStairs(cur+1)+  calStairs(cur+2) \n",
    "            return memory[cur]\n",
    "        \n",
    "        return calStairs(0)"
   ]
  },
  {
   "cell_type": "code",
   "execution_count": 2,
   "id": "e22e03d7",
   "metadata": {},
   "outputs": [
    {
     "data": {
      "text/plain": [
       "8"
      ]
     },
     "execution_count": 2,
     "metadata": {},
     "output_type": "execute_result"
    }
   ],
   "source": [
    "Solution().climbStairs(5)"
   ]
  },
  {
   "cell_type": "code",
   "execution_count": null,
   "id": "bad96d7e",
   "metadata": {},
   "outputs": [],
   "source": []
  }
 ],
 "metadata": {
  "kernelspec": {
   "display_name": "Python 3",
   "language": "python",
   "name": "python3"
  },
  "language_info": {
   "codemirror_mode": {
    "name": "ipython",
    "version": 3
   },
   "file_extension": ".py",
   "mimetype": "text/x-python",
   "name": "python",
   "nbconvert_exporter": "python",
   "pygments_lexer": "ipython3",
   "version": "3.9.5"
  }
 },
 "nbformat": 4,
 "nbformat_minor": 5
}
