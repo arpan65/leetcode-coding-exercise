{
 "cells": [
  {
   "cell_type": "markdown",
   "id": "3ce192f6",
   "metadata": {},
   "source": [
    "# Leetcode - day 3"
   ]
  },
  {
   "cell_type": "markdown",
   "id": "945c403a",
   "metadata": {},
   "source": [
    "### Find First and Last Position of Element in Sorted Array\n",
    "    \n",
    "Given an integer array nums and an integer val, remove all occurrences of val in nums in-place. The relative order of the elements may be changed.\n",
    "\n",
    "Since it is impossible to change the length of the array in some languages, you must instead have the result be placed in the first part of the array nums. More formally, if there are k elements after removing the duplicates, then the first k elements of nums should hold the final result. It does not matter what you leave beyond the first k elements.\n",
    "\n",
    "Return k after placing the final result in the first k slots of nums.\n",
    "\n",
    "Do not allocate extra space for another array. You must do this by modifying the input array in-place with O(1) extra memory."
   ]
  },
  {
   "cell_type": "code",
   "execution_count": 16,
   "id": "eaf018b3",
   "metadata": {},
   "outputs": [],
   "source": [
    "    def removeElement(nums,val):\n",
    "        val_index=[]\n",
    "        for i in range(len(nums)):\n",
    "            if(nums[i]==val):\n",
    "                val_index.append(i)\n",
    "        for i in range(len(val_index)):\n",
    "            nums.remove(val)\n",
    "        print(nums)    \n",
    "        return len(nums)        "
   ]
  },
  {
   "cell_type": "code",
   "execution_count": 18,
   "id": "3cd39fa0",
   "metadata": {},
   "outputs": [
    {
     "data": {
      "text/plain": [
       "2"
      ]
     },
     "execution_count": 18,
     "metadata": {},
     "output_type": "execute_result"
    }
   ],
   "source": [
    "removeElement([3,2,2,3],2)"
   ]
  },
  {
   "cell_type": "markdown",
   "id": "72c421a1",
   "metadata": {},
   "source": [
    "### Container With Most Water\n",
    "\n",
    "Implement next permutation, which rearranges numbers into the lexicographically next greater permutation of numbers.\n",
    "\n",
    "If such an arrangement is not possible, it must rearrange it as the lowest possible order (i.e., sorted in ascending order).\n",
    "\n",
    "The replacement must be in place and use only constant extra memory."
   ]
  },
  {
   "attachments": {
    "image.png": {
     "image/png": "[encoded data removed]"
    }
   },
   "cell_type": "markdown",
   "id": "d23a1463",
   "metadata": {},
   "source": [
    "### solution:\n",
    "\n",
    "suppose arr is already sorted in descending order: 5431 -> no larger permutation possible\n",
    "\n",
    "\n",
    "arr is already sorted in ascending order: 1356 -> swapping the last two digits(or 1 st two digits from right where arr[i]>arr[i+1]) \n",
    "\n",
    "for other sequence like: 1528176 \n",
    "parse from the right untill we find a number arr[i] which is lesser than it's right number. for us it's 1 (note we are considering i from right side)\n",
    "\n",
    "find the next bigger number of 1 in right side, which is 6 in our case. swap these two. The sequence now became:\n",
    "1528671 and the pivot index is(original index of 1) -3\n",
    "\n",
    "\n",
    "fix the numbers in the left side of pivot_index : 1528\n",
    "reverse the numbers in the right side of pivot_index: 17\n",
    "So the answer is: 1528 6 17 -> 1528617\n",
    "\n",
    "![image.png](attachment:image.png)\n",
    "\n",
    "https://www.youtube.com/watch?v=LuLCLgMElus"
   ]
  },
  {
   "cell_type": "code",
   "execution_count": 140,
   "id": "e5d5541e",
   "metadata": {},
   "outputs": [],
   "source": [
    "def isDescSorted(nums):\n",
    "    cur=nums[0]\n",
    "    for i in range(1,len(nums)):\n",
    "        if(nums[i]>=cur):\n",
    "            return False\n",
    "        cur=nums[i]\n",
    "    return True \n",
    "\n",
    "def isSorted(nums):\n",
    "    cur=nums[0]\n",
    "    for i in range(1,len(nums)):\n",
    "        if(nums[i]<=cur):\n",
    "            return False\n",
    "        cur=nums[i]\n",
    "    return True\n",
    "\n",
    "def reverseSequence(nums):\n",
    "    return nums[::-1]"
   ]
  },
  {
   "cell_type": "code",
   "execution_count": 259,
   "id": "27f9aa5e",
   "metadata": {},
   "outputs": [],
   "source": [
    "def nextPermutation(nums):\n",
    "    # if already sorted in ascending order reverse last two digits\n",
    "    if(isSorted(nums)):\n",
    "        nums[-2::]=reverseSequence(nums[-2::])\n",
    "        return nums\n",
    "    \n",
    "    # else if the sequence is sorted in descending order return reverse(sequence)\n",
    "    elif(isDescSorted(nums)):\n",
    "        nums=reverseSequence(nums)\n",
    "        return nums\n",
    "    \n",
    "    #else\n",
    "    else:\n",
    "        # from the right side find the index where the number is lesser than it's right number \n",
    "        index=-1\n",
    "        for i in range(1,len(nums)+1):\n",
    "            if(i<len(nums) and nums[-i]>nums[-(i+1)]):\n",
    "                index=-i-1\n",
    "                pivot_num=nums[index]\n",
    "                print('pivot num:',pivot_num,'index:',index)\n",
    "                break   \n",
    "                \n",
    "        # find the next bigger number in the right side of the sequence\n",
    "        # swap that number with pivot\n",
    "        for i in range(1,-index):\n",
    "            if(nums[-i]>pivot_num):\n",
    "                nums[index]=nums[-i]\n",
    "                nums[-i]=pivot_num\n",
    "                print('next bigger number in right:',nums[-i])\n",
    "                break\n",
    "        print('after swapping:',nums) \n",
    "        # reverse the sequence after the pivot_index\n",
    "        nums[index+1::]=reverseSequence(nums[index+1::]) \n",
    "        print('final result:')\n",
    "        return nums    "
   ]
  },
  {
   "cell_type": "code",
   "execution_count": 260,
   "id": "af6ad31b",
   "metadata": {},
   "outputs": [
    {
     "name": "stdout",
     "output_type": "stream",
     "text": [
      "pivot num: 8 index: -2\n",
      "next bigger number in right: 8\n",
      "after swapping: [1, 7, 3, 9, 8]\n",
      "final result:\n"
     ]
    },
    {
     "data": {
      "text/plain": [
       "[1, 7, 3, 9, 8]"
      ]
     },
     "execution_count": 260,
     "metadata": {},
     "output_type": "execute_result"
    }
   ],
   "source": [
    "nextPermutation([1,7,3,8,9])"
   ]
  },
  {
   "cell_type": "code",
   "execution_count": 261,
   "id": "c97067ce",
   "metadata": {},
   "outputs": [
    {
     "name": "stdout",
     "output_type": "stream",
     "text": [
      "pivot num: 1 index: -3\n",
      "next bigger number in right: 1\n",
      "after swapping: [2, 3, 1]\n",
      "final result:\n"
     ]
    },
    {
     "data": {
      "text/plain": [
       "[2, 1, 3]"
      ]
     },
     "execution_count": 261,
     "metadata": {},
     "output_type": "execute_result"
    }
   ],
   "source": [
    "nextPermutation([1,3,2])"
   ]
  }
 ],
 "metadata": {
  "kernelspec": {
   "display_name": "Python 3",
   "language": "python",
   "name": "python3"
  },
  "language_info": {
   "codemirror_mode": {
    "name": "ipython",
    "version": 3
   },
   "file_extension": ".py",
   "mimetype": "text/x-python",
   "name": "python",
   "nbconvert_exporter": "python",
   "pygments_lexer": "ipython3",
   "version": "3.9.5"
  }
 },
 "nbformat": 4,
 "nbformat_minor": 5
}
