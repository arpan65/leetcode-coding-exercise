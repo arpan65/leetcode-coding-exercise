{
 "cells": [
  {
   "cell_type": "markdown",
   "id": "c72d8248",
   "metadata": {},
   "source": [
    "# Leetcode - day 9"
   ]
  },
  {
   "cell_type": "markdown",
   "id": "f5b94a4d",
   "metadata": {},
   "source": [
    "### Combination Sum\n",
    "\n",
    "Given an array of distinct integers candidates and a target integer target, return a list of all unique combinations of candidates where the chosen numbers sum to target. You may return the combinations in any order.\n",
    "\n",
    "The same number may be chosen from candidates an unlimited number of times. Two combinations are unique if the frequency of at least one of the chosen numbers is different.\n",
    "\n",
    "It is guaranteed that the number of unique combinations that sum up to target is less than 150 combinations for the given input."
   ]
  },
  {
   "cell_type": "markdown",
   "id": "d054d8ef",
   "metadata": {},
   "source": [
    "Example 1:\n",
    "\n",
    "Input: candidates = [2,3,6,7], target = 7\n",
    "Output: [[2,2,3],[7]]\n",
    "Explanation:\n",
    "2 and 3 are candidates, and 2 + 2 + 3 = 7. Note that 2 can be used multiple times.\n",
    "7 is a candidate, and 7 = 7.\n",
    "These are the only two combinations.\n",
    "\n",
    "Example 2:\n",
    "\n",
    "Input: candidates = [2,3,5], target = 8\n",
    "Output: [[2,2,2,2],[2,3,3],[3,5]]"
   ]
  },
  {
   "cell_type": "markdown",
   "id": "084065ed",
   "metadata": {},
   "source": [
    "### Approach\n",
    "\n",
    "we can solve the problem using a recursive back tracking approach, the important points to keep in mind are, we can use an element multiple times and no duplicate combinations are allowed.\n",
    "\n",
    "So, for each index of the input array, either we can pick it or not pick it. Suppose arr=[2,3,6,7] with target=7\n",
    "at index =0 we can either choose to pick 2 or not pick 2, which ensures that the final combinations will be unique.\n",
    "(it can either have or not have a 2)\n",
    "\n",
    "\n",
    "Now after picking 2 (we will maintain a data sctructure to keep track of the picked elements) we are left with elements [3,6,7] and target=7-2=5\n",
    "\n",
    "In next step we can again have same options: pick the 2 or not pick the 2\n",
    " so at each step there are three possibilities that can happen:\n",
    " \n",
    " 1. target=0 which means we got a valid combination, add the current picks (the datastructure we are maintaining) to the result list\n",
    " \n",
    " 2. target<0 which means with the remaining elements we cannot acheive the target, return immidiately\n",
    " \n",
    " 3. now if target>0 we will add the current element to the data structure, invoke the backtrack again with the current target = target - current element\n",
    " \n",
    " Note: each time we are doing back tracking in case we can not get a valid combination with the last picked element, we need to remove the element\n",
    "    "
   ]
  },
  {
   "cell_type": "code",
   "execution_count": 26,
   "id": "58834dc4",
   "metadata": {},
   "outputs": [],
   "source": [
    "\n",
    "class Solution(object):\n",
    "    def combinationSum(self, nums, target):\n",
    "        \"\"\"\n",
    "        :type candidates: List[int]\n",
    "        :type target: int\n",
    "        :rtype: List[List[int]]\n",
    "        \"\"\"\n",
    "        res=[]\n",
    "        cur=[]\n",
    "        def backTrack(start,target,cur):\n",
    "            if(target<0):\n",
    "                return\n",
    "            if(target==0):\n",
    "                print('-'*50)\n",
    "                print('valid combo found:',str(cur))\n",
    "                print('-'*50)\n",
    "                res.append(cur.copy())    \n",
    "            for i in range(start,len(nums)):\n",
    "                cur.append(nums[i])\n",
    "                print('current element:',str(nums[i]),'target:',str(target-nums[i]),'cur:',cur)\n",
    "                backTrack(i,target-nums[i],cur)\n",
    "                print('backtrack: remove last added element from the invalid combination:',cur[-1])\n",
    "                cur.pop(-1)  \n",
    "        backTrack(0,target,cur)\n",
    "        return res"
   ]
  },
  {
   "cell_type": "code",
   "execution_count": 27,
   "id": "06d79316",
   "metadata": {},
   "outputs": [
    {
     "name": "stdout",
     "output_type": "stream",
     "text": [
      "current element: 2 target: 5 cur: [2]\n",
      "current element: 2 target: 3 cur: [2, 2]\n",
      "current element: 2 target: 1 cur: [2, 2, 2]\n",
      "current element: 2 target: -1 cur: [2, 2, 2, 2]\n",
      "backtrack: remove last added element from the invalid combination: 2\n",
      "current element: 3 target: -2 cur: [2, 2, 2, 3]\n",
      "backtrack: remove last added element from the invalid combination: 3\n",
      "current element: 6 target: -5 cur: [2, 2, 2, 6]\n",
      "backtrack: remove last added element from the invalid combination: 6\n",
      "current element: 7 target: -6 cur: [2, 2, 2, 7]\n",
      "backtrack: remove last added element from the invalid combination: 7\n",
      "backtrack: remove last added element from the invalid combination: 2\n",
      "current element: 3 target: 0 cur: [2, 2, 3]\n",
      "--------------------------------------------------\n",
      "valid combo found: [2, 2, 3]\n",
      "--------------------------------------------------\n",
      "current element: 3 target: -3 cur: [2, 2, 3, 3]\n",
      "backtrack: remove last added element from the invalid combination: 3\n",
      "current element: 6 target: -6 cur: [2, 2, 3, 6]\n",
      "backtrack: remove last added element from the invalid combination: 6\n",
      "current element: 7 target: -7 cur: [2, 2, 3, 7]\n",
      "backtrack: remove last added element from the invalid combination: 7\n",
      "backtrack: remove last added element from the invalid combination: 3\n",
      "current element: 6 target: -3 cur: [2, 2, 6]\n",
      "backtrack: remove last added element from the invalid combination: 6\n",
      "current element: 7 target: -4 cur: [2, 2, 7]\n",
      "backtrack: remove last added element from the invalid combination: 7\n",
      "backtrack: remove last added element from the invalid combination: 2\n",
      "current element: 3 target: 2 cur: [2, 3]\n",
      "current element: 3 target: -1 cur: [2, 3, 3]\n",
      "backtrack: remove last added element from the invalid combination: 3\n",
      "current element: 6 target: -4 cur: [2, 3, 6]\n",
      "backtrack: remove last added element from the invalid combination: 6\n",
      "current element: 7 target: -5 cur: [2, 3, 7]\n",
      "backtrack: remove last added element from the invalid combination: 7\n",
      "backtrack: remove last added element from the invalid combination: 3\n",
      "current element: 6 target: -1 cur: [2, 6]\n",
      "backtrack: remove last added element from the invalid combination: 6\n",
      "current element: 7 target: -2 cur: [2, 7]\n",
      "backtrack: remove last added element from the invalid combination: 7\n",
      "backtrack: remove last added element from the invalid combination: 2\n",
      "current element: 3 target: 4 cur: [3]\n",
      "current element: 3 target: 1 cur: [3, 3]\n",
      "current element: 3 target: -2 cur: [3, 3, 3]\n",
      "backtrack: remove last added element from the invalid combination: 3\n",
      "current element: 6 target: -5 cur: [3, 3, 6]\n",
      "backtrack: remove last added element from the invalid combination: 6\n",
      "current element: 7 target: -6 cur: [3, 3, 7]\n",
      "backtrack: remove last added element from the invalid combination: 7\n",
      "backtrack: remove last added element from the invalid combination: 3\n",
      "current element: 6 target: -2 cur: [3, 6]\n",
      "backtrack: remove last added element from the invalid combination: 6\n",
      "current element: 7 target: -3 cur: [3, 7]\n",
      "backtrack: remove last added element from the invalid combination: 7\n",
      "backtrack: remove last added element from the invalid combination: 3\n",
      "current element: 6 target: 1 cur: [6]\n",
      "current element: 6 target: -5 cur: [6, 6]\n",
      "backtrack: remove last added element from the invalid combination: 6\n",
      "current element: 7 target: -6 cur: [6, 7]\n",
      "backtrack: remove last added element from the invalid combination: 7\n",
      "backtrack: remove last added element from the invalid combination: 6\n",
      "current element: 7 target: 0 cur: [7]\n",
      "--------------------------------------------------\n",
      "valid combo found: [7]\n",
      "--------------------------------------------------\n",
      "current element: 7 target: -7 cur: [7, 7]\n",
      "backtrack: remove last added element from the invalid combination: 7\n",
      "backtrack: remove last added element from the invalid combination: 7\n"
     ]
    },
    {
     "data": {
      "text/plain": [
       "[[2, 2, 3], [7]]"
      ]
     },
     "execution_count": 27,
     "metadata": {},
     "output_type": "execute_result"
    }
   ],
   "source": [
    "Solution().combinationSum([2,3,6,7],7)"
   ]
  },
  {
   "cell_type": "code",
   "execution_count": null,
   "id": "e471c032",
   "metadata": {},
   "outputs": [],
   "source": []
  }
 ],
 "metadata": {
  "kernelspec": {
   "display_name": "Python 3",
   "language": "python",
   "name": "python3"
  },
  "language_info": {
   "codemirror_mode": {
    "name": "ipython",
    "version": 3
   },
   "file_extension": ".py",
   "mimetype": "text/x-python",
   "name": "python",
   "nbconvert_exporter": "python",
   "pygments_lexer": "ipython3",
   "version": "3.9.5"
  }
 },
 "nbformat": 4,
 "nbformat_minor": 5
}
