{
 "cells": [
  {
   "cell_type": "markdown",
   "id": "3817f983",
   "metadata": {},
   "source": [
    "# Longest Consecutive Sequence\n",
    "\n",
    "Given an unsorted array of integers nums, return the length of the longest consecutive elements sequence.\n",
    "\n",
    "You must write an algorithm that runs in O(n) time.\n",
    "\n",
    " \n",
    "\n",
    "Example 1:\n",
    "\n",
    "Input: nums = [100,4,200,1,3,2]\n",
    "Output: 4\n",
    "Explanation: The longest consecutive elements sequence is [1, 2, 3, 4]. Therefore its length is 4.\n",
    "\n",
    "Example 2:\n",
    "\n",
    "Input: nums = [0,3,7,2,5,8,4,6,0,1]\n",
    "Output: 9"
   ]
  },
  {
   "cell_type": "markdown",
   "id": "b9feb0ee",
   "metadata": {},
   "source": [
    "## Solution:"
   ]
  },
  {
   "cell_type": "markdown",
   "id": "435fa806",
   "metadata": {},
   "source": [
    "<(1),2,3,4------------(100)----------(200)------------->\n",
    "\n",
    "If we can imagine the inputs like this, the starting of a sequence is always a number who's previous number is not present.\n",
    "\n",
    "We will create a set will all of the input numbers.\n",
    "\n",
    "For each number identified as beginning of a sequence, we will keep checking in the set if the next number is present in the set. The largest among these instances will be the longest sequence."
   ]
  },
  {
   "cell_type": "code",
   "execution_count": 2,
   "id": "5438fd78",
   "metadata": {},
   "outputs": [],
   "source": [
    "class Solution:\n",
    "    def longestConsecutive(self, nums):\n",
    "        # create a set with all the inputs\n",
    "        numSet=set(nums)\n",
    "        # define a variable to keep track the longest sequence\n",
    "        longestSeq=0\n",
    "        # for each element in the input\n",
    "        for ele in nums:\n",
    "            # if the element is the beginning of a sequence\n",
    "            if ele-1 not in numSet:\n",
    "                # initialize a variable 'longest' to track the sequence beginning with that element\n",
    "                longest=1\n",
    "                # keep appending the sequence if the next number is present in the set\n",
    "                while ele+1 in numSet:\n",
    "                    ele+=1\n",
    "                    longest+=1\n",
    "            # update the longestSeq variable        \n",
    "            longestSeq=max(longestSeq,longest)   \n",
    "        return longestSeq        "
   ]
  },
  {
   "cell_type": "code",
   "execution_count": 3,
   "id": "fe4ce649",
   "metadata": {},
   "outputs": [
    {
     "data": {
      "text/plain": [
       "9"
      ]
     },
     "execution_count": 3,
     "metadata": {},
     "output_type": "execute_result"
    }
   ],
   "source": [
    "Solution().longestConsecutive([0,3,7,2,5,8,4,6,0,1])"
   ]
  }
 ],
 "metadata": {
  "kernelspec": {
   "display_name": "Python 3 (ipykernel)",
   "language": "python",
   "name": "python3"
  },
  "language_info": {
   "codemirror_mode": {
    "name": "ipython",
    "version": 3
   },
   "file_extension": ".py",
   "mimetype": "text/x-python",
   "name": "python",
   "nbconvert_exporter": "python",
   "pygments_lexer": "ipython3",
   "version": "3.9.7"
  }
 },
 "nbformat": 4,
 "nbformat_minor": 5
}
