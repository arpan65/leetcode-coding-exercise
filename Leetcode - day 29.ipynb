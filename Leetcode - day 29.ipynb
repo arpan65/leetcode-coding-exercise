{
 "cells": [
  {
   "cell_type": "markdown",
   "id": "b11a7e8d",
   "metadata": {},
   "source": [
    "# Word Break\n",
    "\n",
    "Given a string s and a dictionary of strings wordDict, return true if s can be segmented into a space-separated sequence of one or more dictionary words.\n",
    "\n",
    "Note that the same word in the dictionary may be reused multiple times in the segmentation.\n",
    "\n",
    " \n",
    "\n",
    "Example 1:\n",
    "\n",
    "Input: s = \"leetcode\", wordDict = [\"leet\",\"code\"]\n",
    "Output: true\n",
    "Explanation: Return true because \"leetcode\" can be segmented as \"leet code\".\n",
    "\n",
    "Example 2:\n",
    "\n",
    "Input: s = \"applepenapple\", wordDict = [\"apple\",\"pen\"]\n",
    "Output: true\n",
    "Explanation: Return true because \"applepenapple\" can be segmented as \"apple pen apple\".\n",
    "Note that you are allowed to reuse a dictionary word.\n",
    "\n",
    "Example 3:\n",
    "\n",
    "Input: s = \"catsandog\", wordDict = [\"cats\",\"dog\",\"sand\",\"and\",\"cat\"]\n",
    "Output: false"
   ]
  },
  {
   "cell_type": "markdown",
   "id": "b363b8fe",
   "metadata": {},
   "source": [
    "## Solution Approach:\n",
    "\n",
    "The problem can be solved using dynamic programming. \n",
    "\n",
    "We can maintain a memory(array of length(s)+1) to save if the input can be segmented starting from each index.\n",
    "\n",
    "We can start from the right side of the array, for each index check in the word dict if there is a matching word of the same length, if there is a matching word check if the remaining part of the input can be word breaked. "
   ]
  },
  {
   "cell_type": "code",
   "execution_count": 1,
   "id": "87c33bd1",
   "metadata": {},
   "outputs": [],
   "source": [
    "class Solution:\n",
    "    def wordBreak(self, s,wordDict):\n",
    "        # initialize a memeory of length s+1\n",
    "        res=[False]*(len(s)+1)\n",
    "        # set the last one as true\n",
    "        # i.e for input \"aaa\" res[3] as True\n",
    "        res[len(s)]=True\n",
    "        # for each index starting from right\n",
    "        for i in range(len(s),-1,-1):\n",
    "            # for each word in the word dict\n",
    "            for word in wordDict:\n",
    "                # if a same length word starting from current index exists\n",
    "                if s[i:i+len(word)]==word:\n",
    "                    # check if the remaining part can be wordbreaked from the res array\n",
    "                    res[i]=res[i+len(word)]  \n",
    "                    # if the value is true skip checking other words in the word dict\n",
    "                    if res[i]==True:\n",
    "                        break\n",
    "        return res[0]            \n",
    "        "
   ]
  },
  {
   "cell_type": "code",
   "execution_count": 2,
   "id": "e1c1921b",
   "metadata": {},
   "outputs": [
    {
     "data": {
      "text/plain": [
       "True"
      ]
     },
     "execution_count": 2,
     "metadata": {},
     "output_type": "execute_result"
    }
   ],
   "source": [
    "Solution().wordBreak(\"aaaaaaa\",[\"aaa\",\"aaaa\"])"
   ]
  },
  {
   "cell_type": "code",
   "execution_count": 3,
   "id": "d6951f60",
   "metadata": {},
   "outputs": [
    {
     "data": {
      "text/plain": [
       "False"
      ]
     },
     "execution_count": 3,
     "metadata": {},
     "output_type": "execute_result"
    }
   ],
   "source": [
    "Solution().wordBreak(\"catsandog\",[\"cats\",\"dog\",\"sand\",\"and\",\"cat\"])"
   ]
  },
  {
   "cell_type": "markdown",
   "id": "dbf10a02",
   "metadata": {},
   "source": [
    "# Combination Sum IV\n",
    "\n",
    "Given an array of distinct integers nums and a target integer target, return the number of possible combinations that add up to target.\n",
    "\n",
    "The answer is guaranteed to fit in a 32-bit integer.\n",
    "\n",
    " \n",
    "\n",
    "Example 1:\n",
    "\n",
    "Input: nums = [1,2,3], target = 4\n",
    "Output: 7\n",
    "Explanation:\n",
    "The possible combination ways are:\n",
    "(1, 1, 1, 1)\n",
    "(1, 1, 2)\n",
    "(1, 2, 1)\n",
    "(1, 3)\n",
    "(2, 1, 1)\n",
    "(2, 2)\n",
    "(3, 1)\n",
    "Note that different sequences are counted as different combinations.\n",
    "\n",
    "Example 2:\n",
    "\n",
    "Input: nums = [9], target = 3\n",
    "Output: 0"
   ]
  },
  {
   "cell_type": "markdown",
   "id": "991f4687",
   "metadata": {},
   "source": [
    "## Solution Approach:\n",
    "\n",
    "The problem can be solved using bottom up dynamic programming approach. We can use a cache to store the number of possible combination to get the target sum starting from 0.\n",
    "\n",
    "Suppose nums=[1,2,3] and target is 4\n",
    "\n",
    "base case: if our target is 0, the output is 1 \n",
    "cache[0]=1\n",
    "\n",
    "\n",
    "#### for target=1\n",
    "#### -------------------\n",
    "We need to check for all the elements in the num array if we reduce it from target, we can get a valid combo or not \n",
    "   No of combo possible = cache[1-1] + cache[1-2] + cache[1-3]\n",
    "                        = 1+0+0 = 1\n",
    "#### for target=2\n",
    "#### -------------------\n",
    "   No of combo possible = cache[2-1] + cache[2-2] + cache[2-3]\n",
    "                        = 1+1+0 = 2\n",
    "                        \n",
    "Similarly we will calculate up to target=4, mote while calculating cache[1], we already have the value in the cache                        "
   ]
  },
  {
   "cell_type": "code",
   "execution_count": 4,
   "id": "1f0f1e82",
   "metadata": {},
   "outputs": [],
   "source": [
    "class Solution:\n",
    "    def combinationSum4(self, nums, target):\n",
    "        dp={0:1}\n",
    "        for i in range(1,target+1):\n",
    "            dp[i]=0\n",
    "            for ele in nums:\n",
    "                dp[i]+=dp.get(i-ele,0)\n",
    "        return dp[target]        "
   ]
  },
  {
   "cell_type": "code",
   "execution_count": 5,
   "id": "fb3c8ffb",
   "metadata": {},
   "outputs": [
    {
     "data": {
      "text/plain": [
       "7"
      ]
     },
     "execution_count": 5,
     "metadata": {},
     "output_type": "execute_result"
    }
   ],
   "source": [
    "Solution().combinationSum4([1,2,3],4)"
   ]
  }
 ],
 "metadata": {
  "kernelspec": {
   "display_name": "Python 3",
   "language": "python",
   "name": "python3"
  },
  "language_info": {
   "codemirror_mode": {
    "name": "ipython",
    "version": 3
   },
   "file_extension": ".py",
   "mimetype": "text/x-python",
   "name": "python",
   "nbconvert_exporter": "python",
   "pygments_lexer": "ipython3",
   "version": "3.9.5"
  }
 },
 "nbformat": 4,
 "nbformat_minor": 5
}
